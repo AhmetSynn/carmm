{
 "cells": [
  {
   "cell_type": "markdown",
   "metadata": {},
   "source": [
    "\n",
    "# Pyplot tutorial\n",
    "\n",
    "\n",
    "An introduction to the pyplot interface; more expansive tutorials are available here:\n",
    "https://matplotlib.org/tutorials/introductory/\n",
    "\n",
    "Matplotlib is a Python library for plotting and manipulating graphs and figures. \n",
    "\n",
    "The starting point is importing the main `pyplot` object, which is typically named to `plt`\n"
   ]
  },
  {
   "cell_type": "code",
   "execution_count": null,
   "metadata": {},
   "outputs": [],
   "source": [
    "import matplotlib.pyplot as plt"
   ]
  },
  {
   "cell_type": "markdown",
   "metadata": {},
   "source": [
    "Almost all functionality in matplotlib runs through this `plt` object. \n",
    "\n",
    "In the simplest form, it represents a space to plot figures and graphs. To plot a graph, we only *need* to pass in  values to go on the y-axis; however, we can also pass in the x-axis data easily as well. The simplest presentation of data is with `plt.plot()`"
   ]
  },
  {
   "cell_type": "code",
   "execution_count": null,
   "metadata": {},
   "outputs": [],
   "source": [
    "values = range(10)\n",
    "plt.plot(values)\n",
    "\n",
    "squared_values = [i**2 for i in values]\n",
    "plt.plot(values, squared_values)"
   ]
  },
  {
   "cell_type": "markdown",
   "metadata": {},
   "source": [
    "Something of perhaps key understanding if searching through the matplotlib tutorials and online pages is understanding the differences between `plt`, `fig` and `axes`, which are all used rather interchangeably: \n",
    "- `plt` is the matplotlib object\n",
    "- `fig` is the *whole* plot created\n",
    "- `axes` is an instance of a graph (think of it as a set of axes). For more: https://matplotlib.org/api/_as_gen/matplotlib.pyplot.axes.html\n",
    "\n",
    "    In the simplest case, when we are only working with one graph in a Figure, `plt` is essentially the same as the `axes`. We can actually get the axes object using `plt.gca()`: \"get current axes\". Plotting through `plt.plot()` or `axes.plot()` then has the same outcomes."
   ]
  },
  {
   "cell_type": "code",
   "execution_count": null,
   "metadata": {},
   "outputs": [],
   "source": [
    "axes = plt.gca()\n",
    "\n",
    "plt.plot(values)\n",
    "axes.plot(squared_values)"
   ]
  },
  {
   "cell_type": "markdown",
   "metadata": {},
   "source": [
    "The `fig` and `axes` come into their own when you want to start plotting subfigures. One can create a Figure with several subplots, and then work with each separately. (For more: https://matplotlib.org/gallery/subplots_axes_and_figures/subplots_demo.html)"
   ]
  },
  {
   "cell_type": "code",
   "execution_count": null,
   "metadata": {},
   "outputs": [],
   "source": [
    "fig, ax = plt.subplots(nrows=1,ncols=2)\n",
    "\n",
    "ax[0].plot(values)\n",
    "ax[1].plot(squared_values)"
   ]
  },
  {
   "cell_type": "markdown",
   "metadata": {},
   "source": [
    "Another aspect to be aware of is the data presentation is highly flexibile. The API is extensive and gives many range of functionalities for each type of graph. Here, lets demonstrate plotting data with red circles, `ro`, and green crosses, `gx`. (https://matplotlib.org/api/_as_gen/matplotlib.pyplot.plot.html)"
   ]
  },
  {
   "cell_type": "code",
   "execution_count": null,
   "metadata": {},
   "outputs": [],
   "source": [
    "plt.plot(values, 'ro')\n",
    "axes = plt.gca()\n",
    "axes.plot(squared_values, 'gx')"
   ]
  },
  {
   "cell_type": "markdown",
   "metadata": {},
   "source": [
    "One of my favourite types of plot with matplotlib is `plt.fill_between()`, which interpolates a space between two datasets with a colour. Note that *two* sets of data are given for the y-axis. (https://matplotlib.org/api/_as_gen/matplotlib.axes.Axes.fill_between.html)"
   ]
  },
  {
   "cell_type": "code",
   "execution_count": null,
   "metadata": {},
   "outputs": [],
   "source": [
    "fig, ax = plt.subplots(nrows=1,ncols=2)\n",
    "\n",
    "ax[0].fill_between(values, squared_values)\n",
    "\n",
    "ax[1].fill_between(values, values, squared_values)\n",
    "ax[1].fill_between(values, [0 * len(values)], values)"
   ]
  },
  {
   "cell_type": "markdown",
   "metadata": {},
   "source": [
    "Another highly flexible and useful structure is a typically scatter graph, `plt.scatter()`, which is useful for discontinuous data\n",
    "(https://matplotlib.org/api/_as_gen/matplotlib.pyplot.scatter.html). Here lets bring in numpy as `np` to allow us to create some random numbers, and again you'll notice we are feeding in a x- and y- data range."
   ]
  },
  {
   "cell_type": "code",
   "execution_count": null,
   "metadata": {},
   "outputs": [],
   "source": [
    "import numpy as np\n",
    "\n",
    "values_rand = np.random.randn(10)\n",
    "\n",
    "plt.scatter(values, values_rand)"
   ]
  },
  {
   "cell_type": "markdown",
   "metadata": {},
   "source": [
    "With a bit of clever combination of packages, we can then start to do things like plot fits to this data. Here this is demonstrated in the simplest form using `polyfit()` from the numpy package, which at the first order will return `m` and `c` for the linear graph `y = mx + c` (https://docs.scipy.org/doc/numpy/reference/generated/numpy.polyfit.html)\n",
    "\n",
    "More extensive description is available here: https://data36.com/linear-regression-in-python-numpy-polyfit/, and be aware that there are other approaches to defining the fitting function (one can even chose your own equation)."
   ]
  },
  {
   "cell_type": "code",
   "execution_count": null,
   "metadata": {},
   "outputs": [],
   "source": [
    "m, c = np.polyfit(values, values_rand, 1)\n",
    "\n",
    "plt.scatter(values, values_rand)\n",
    "plt.plot(values, (m*values)+c)"
   ]
  },
  {
   "cell_type": "markdown",
   "metadata": {},
   "source": [
    "Aesthetic management of the axis labels and ranges is available through manipulation of the `plt` or the specific `axes` object (https://matplotlib.org/api/_as_gen/matplotlib.pyplot.axis.html)"
   ]
  },
  {
   "cell_type": "code",
   "execution_count": null,
   "metadata": {},
   "outputs": [],
   "source": [
    "fig, ax = plt.subplots(nrows=1,ncols=2)\n",
    "\n",
    "ax[0].plot(values, squared_values)\n",
    "ax[0].set()\n",
    "\n",
    "ax[1].plot(values, squared_values)\n",
    "ax[1].set(xlim=[0, 5], ylim=[5, 15])\n",
    "ax[1].set_xlabel('An inappropriate axis range!')"
   ]
  },
  {
   "cell_type": "markdown",
   "metadata": {},
   "source": [
    "Finally, from a usability perspective it is good to know you can combine plotting and functionality to produce for complex, scientific-presentation ready graphs in a relatively trivial manner using e.g. `plt.plot()`"
   ]
  },
  {
   "cell_type": "code",
   "execution_count": null,
   "metadata": {
    "scrolled": true
   },
   "outputs": [],
   "source": [
    "import numpy as np\n",
    "\n",
    "# evenly sampled time at 200ms intervals\n",
    "t = np.arange(0., 5., 0.2)\n",
    "\n",
    "# red dashes, blue squares and green triangles\n",
    "plt.plot(t, t, 'r--', t, t**2, 'bs', t, t**3, 'g^')"
   ]
  }
 ],
 "metadata": {
  "kernelspec": {
   "display_name": "Python 3",
   "language": "python",
   "name": "python3"
  },
  "language_info": {
   "codemirror_mode": {
    "name": "ipython",
    "version": 3
   },
   "file_extension": ".py",
   "mimetype": "text/x-python",
   "name": "python",
   "nbconvert_exporter": "python",
   "pygments_lexer": "ipython3",
   "version": "3.7.7"
  }
 },
 "nbformat": 4,
 "nbformat_minor": 1
}
