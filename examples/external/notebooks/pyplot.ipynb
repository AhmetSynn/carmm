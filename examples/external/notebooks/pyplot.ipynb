{
  "cells": [
    {
      "cell_type": "code",
      "execution_count": null,
      "metadata": {
        "collapsed": false
      },
      "outputs": [],
      "source": [
        "%matplotlib inline"
      ]
    },
    {
      "cell_type": "markdown",
      "metadata": {},
      "source": [
        "\n# Pyplot tutorial\n\n\nAn introduction to the pyplot interface.\n"
      ]
    },
    {
      "cell_type": "markdown",
      "metadata": {},
      "source": [
        "Intro to pyplot\n===============\n\n:mod:`matplotlib.pyplot` is a collection of command style functions\nthat make matplotlib work like MATLAB.\nEach ``pyplot`` function makes\nsome change to a figure: e.g., creates a figure, creates a plotting area\nin a figure, plots some lines in a plotting area, decorates the plot\nwith labels, etc.\n\nIn :mod:`matplotlib.pyplot` various states are preserved\nacross function calls, so that it keeps track of things like\nthe current figure and plotting area, and the plotting\nfunctions are directed to the current axes (please note that \"axes\" here\nand in most places in the documentation refers to the *axes*\n`part of a figure <figure_parts>`\nand not the strict mathematical term for more than one axis).\n\n<div class=\"alert alert-info\"><h4>Note</h4><p>the pyplot API is generally less-flexible than the object-oriented API.\n   Most of the function calls you see here can also be called as methods\n   from an ``Axes`` object. We recommend browsing the tutorials and\n   examples to see how this works.</p></div>\n\nGenerating visualizations with pyplot is very quick:\n\n"
      ]
    },
    {
      "cell_type": "code",
      "execution_count": null,
      "metadata": {
        "collapsed": false
      },
      "outputs": [],
      "source": [
        "import matplotlib.pyplot as plt\nplt.plot([1, 2, 3, 4])\nplt.ylabel('some numbers')\nplt.show()"
      ]
    },
    {
      "cell_type": "markdown",
      "metadata": {},
      "source": [
        "You may be wondering why the x-axis ranges from 0-3 and the y-axis\nfrom 1-4.  If you provide a single list or array to the\n:func:`~matplotlib.pyplot.plot` command, matplotlib assumes it is a\nsequence of y values, and automatically generates the x values for\nyou.  Since python ranges start with 0, the default x vector has the\nsame length as y but starts with 0.  Hence the x data are\n``[0, 1, 2, 3]``.\n\n:func:`~matplotlib.pyplot.plot` is a versatile command, and will take\nan arbitrary number of arguments.  For example, to plot x versus y,\nyou can issue the command:\n\n"
      ]
    },
    {
      "cell_type": "code",
      "execution_count": null,
      "metadata": {
        "collapsed": false
      },
      "outputs": [],
      "source": [
        "plt.plot([1, 2, 3, 4], [1, 4, 9, 16])"
      ]
    },
    {
      "cell_type": "markdown",
      "metadata": {},
      "source": [
        "Formatting the style of your plot\n---------------------------------\n\nFor every x, y pair of arguments, there is an optional third argument\nwhich is the format string that indicates the color and line type of\nthe plot.  The letters and symbols of the format string are from\nMATLAB, and you concatenate a color string with a line style string.\nThe default format string is 'b-', which is a solid blue line.  For\nexample, to plot the above with red circles, you would issue\n\n"
      ]
    },
    {
      "cell_type": "code",
      "execution_count": null,
      "metadata": {
        "collapsed": false
      },
      "outputs": [],
      "source": [
        "plt.plot([1, 2, 3, 4], [1, 4, 9, 16], 'ro')\nplt.axis([0, 6, 0, 20])\nplt.show()"
      ]
    },
    {
      "cell_type": "markdown",
      "metadata": {},
      "source": [
        "See the :func:`~matplotlib.pyplot.plot` documentation for a complete\nlist of line styles and format strings.  The\n:func:`~matplotlib.pyplot.axis` command in the example above takes a\nlist of ``[xmin, xmax, ymin, ymax]`` and specifies the viewport of the\naxes.\n\nIf matplotlib were limited to working with lists, it would be fairly\nuseless for numeric processing.  Generally, you will use `numpy\n<http://www.numpy.org>`_ arrays.  In fact, all sequences are\nconverted to numpy arrays internally.  The example below illustrates\nplotting several lines with different format styles in one command\nusing arrays.\n\n"
      ]
    },
    {
      "cell_type": "code",
      "execution_count": null,
      "metadata": {
        "collapsed": false
      },
      "outputs": [],
      "source": [
        "import numpy as np\n\n# evenly sampled time at 200ms intervals\nt = np.arange(0., 5., 0.2)\n\n# red dashes, blue squares and green triangles\nplt.plot(t, t, 'r--', t, t**2, 'bs', t, t**3, 'g^')\nplt.show()"
      ]
    }
  ],
  "metadata": {
    "kernelspec": {
      "display_name": "Python 3",
      "language": "python",
      "name": "python3"
    },
    "language_info": {
      "codemirror_mode": {
        "name": "ipython",
        "version": 3
      },
      "file_extension": ".py",
      "mimetype": "text/x-python",
      "name": "python",
      "nbconvert_exporter": "python",
      "pygments_lexer": "ipython3",
      "version": "3.8.2"
    }
  },
  "nbformat": 4,
  "nbformat_minor": 0
}