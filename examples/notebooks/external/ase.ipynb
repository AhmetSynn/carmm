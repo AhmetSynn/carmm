{
 "cells": [
  {
   "cell_type": "markdown",
   "metadata": {},
   "source": [
    "# ASE\n",
    "\n",
    "An introduction to the Atomic Simulation Environment for first timers - a really complete set of is available on the ASE pages: https://wiki.fysik.dtu.dk/ase/tutorials/tutorials.html\n",
    "\n",
    "The first step is installing ASE - this will depend on your working environment, but could be as simple as including the package in your working environment (IDE such as PyCharm), or involve installing it in your working space with `python -m pip install ase --user` (the latter is normally necessary on the supercomputers!)\n",
    "\n",
    "Once installed, try testing the environment by loading `python` and running:"
   ]
  },
  {
   "cell_type": "code",
   "execution_count": 2,
   "metadata": {},
   "outputs": [],
   "source": [
    "import ase"
   ]
  },
  {
   "cell_type": "markdown",
   "metadata": {},
   "source": [
    "If you see no error - success! ASE is installed. Now to start using it!\n",
    "\n",
    "ASE manages the configuration and manipulation of the atomic coordinates, outsourcing the calculation of energy and derivatives to external \"calculators\" (aka software packages). The core to this is the `Atoms` object, which is a collection of `Atom` objects, each containing information such as species, coordinates, and so forth. We import the `Atoms` object thus."
   ]
  },
  {
   "cell_type": "code",
   "execution_count": 1,
   "metadata": {},
   "outputs": [],
   "source": [
    "from ase import Atoms"
   ]
  },
  {
   "cell_type": "markdown",
   "metadata": {},
   "source": [
    "To create a molecule object, one can then build it from scratch:"
   ]
  },
  {
   "cell_type": "code",
   "execution_count": 5,
   "metadata": {},
   "outputs": [],
   "source": [
    "N_atom = Atoms('N')"
   ]
  },
  {
   "cell_type": "markdown",
   "metadata": {},
   "source": [
    "To calculate the energy of this N atom, we need to attach a \"calculator\" to the atoms object to then calculate energy.  Here we use the `EMT()` calculator, which is molecular mechanics, for simplicity, and it is attached using `.set_calculator()`"
   ]
  },
  {
   "cell_type": "code",
   "execution_count": 9,
   "metadata": {},
   "outputs": [],
   "source": [
    "from ase.calculators.emt import EMT\n",
    "\n",
    "N_atom.set_calculator(EMT())"
   ]
  },
  {
   "cell_type": "markdown",
   "metadata": {},
   "source": [
    "Finally, we can now get the potential energy of this system using `.get_potential_energy()`"
   ]
  },
  {
   "cell_type": "code",
   "execution_count": 10,
   "metadata": {},
   "outputs": [
    {
     "name": "stdout",
     "output_type": "stream",
     "text": [
      "5.1\n"
     ]
    }
   ],
   "source": [
    "print(N_atom.get_potential_energy())"
   ]
  },
  {
   "cell_type": "code",
   "execution_count": null,
   "metadata": {},
   "outputs": [],
   "source": []
  }
 ],
 "metadata": {
  "kernelspec": {
   "display_name": "Python 3",
   "language": "python",
   "name": "python3"
  },
  "language_info": {
   "codemirror_mode": {
    "name": "ipython",
    "version": 3
   },
   "file_extension": ".py",
   "mimetype": "text/x-python",
   "name": "python",
   "nbconvert_exporter": "python",
   "pygments_lexer": "ipython3",
   "version": "3.7.7"
  }
 },
 "nbformat": 4,
 "nbformat_minor": 4
}
