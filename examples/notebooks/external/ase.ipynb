{
 "cells": [
  {
   "cell_type": "markdown",
   "metadata": {},
   "source": [
    "# ASE\n",
    "\n",
    "An introduction to the Atomic Simulation Environment for first timers - a really complete set of is available on the ASE pages: https://wiki.fysik.dtu.dk/ase/tutorials/tutorials.html\n",
    "\n",
    "The first step is installing ASE - this will depend on your working environment, but could be as simple as including the package in your working environment (IDE such as PyCharm), or involve installing it in your working space with `python -m pip install ase --user` (the latter is normally necessary on the supercomputers!)\n",
    "\n",
    "Once installed, try testing the environment by loading `python` and running:"
   ]
  },
  {
   "cell_type": "code",
   "execution_count": 2,
   "metadata": {},
   "outputs": [],
   "source": [
    "import ase"
   ]
  },
  {
   "cell_type": "markdown",
   "metadata": {},
   "source": [
    "If you see no error - success! ASE is installed. Now to start using it...."
   ]
  }
 ],
 "metadata": {
  "kernelspec": {
   "display_name": "Python 3",
   "language": "python",
   "name": "python3"
  },
  "language_info": {
   "codemirror_mode": {
    "name": "ipython",
    "version": 3
   },
   "file_extension": ".py",
   "mimetype": "text/x-python",
   "name": "python",
   "nbconvert_exporter": "python",
   "pygments_lexer": "ipython3",
   "version": "3.7.7"
  }
 },
 "nbformat": 4,
 "nbformat_minor": 4
}
