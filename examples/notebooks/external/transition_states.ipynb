{
 "cells": [
  {
   "cell_type": "markdown",
   "metadata": {},
   "source": [
    "# Calculating trainsition states\n",
    "\n",
    "Identifying the most compute effective approach to calculating transition states can be difficult. Let us guide you through the options in this short notebook. **Pre-requisite: Familiarity with ASE**\n",
    "\n",
    "Breakdown of this tutorial:\n",
    "I.) Creating a work case\n",
    "II.) Methods with examples\n",
    "III.) Common problems and how to solve them\n",
    "\n",
    "First, let us create a toy model of Au FCC(111) surface and 2 Cu ad atoms. "
   ]
  },
  {
   "cell_type": "code",
   "execution_count": 2,
   "metadata": {},
   "outputs": [],
   "source": [
    "from examples.data.model_gen import get_example_slab\n",
    "slab_initial = get_example_slab(adsorbate=True, type=\"2Cu\")"
   ]
  },
  {
   "cell_type": "markdown",
   "metadata": {},
   "source": [
    "In the model above the two Cu atoms are situated on top of hcp adsorption sites. The final geometry will be with copper atoms placed in non-neighbouring fcc and hcp sites. The goal is to calculate the transition state between the two and an activation energy."
   ]
  },
  {
   "cell_type": "code",
   "execution_count": 3,
   "metadata": {},
   "outputs": [],
   "source": [
    "slab_final = get_example_slab(adsorbate=True, type=\"2Cu\")\n",
    "hcp_position = [slab_final[1].x, (slab_final[15].y + slab_final[1].y)/2]\n",
    "# place the copper atom in the position specified above\n",
    "slab_final[19].x, slab_final[19].y = hcp_position[0], hcp_position[1]"
   ]
  },
  {
   "cell_type": "markdown",
   "metadata": {},
   "source": [
    "Now before we proceed we need to make sure the structures are optimised. Forces convergence criterion is usually below 0.01 eV/Angstrom on each individual atom, but for the purposes of this tutorial a looser 0.05 value is used."
   ]
  },
  {
   "cell_type": "code",
   "execution_count": 4,
   "metadata": {
    "scrolled": true
   },
   "outputs": [
    {
     "name": "stdout",
     "output_type": "stream",
     "text": [
      "      Step     Time          Energy         fmax\n",
      "*Force-consistent energies used in optimization.\n",
      "FIRE:    0 12:13:22        9.933133*       1.8648\n",
      "FIRE:    1 12:13:22        9.915770*       1.8756\n",
      "FIRE:    2 12:13:22        9.880641*       1.8968\n",
      "FIRE:    3 12:13:22        9.826952*       1.9280\n",
      "FIRE:    4 12:13:22        9.753554*       1.9677\n",
      "FIRE:    5 12:13:22        9.659050*       2.0131\n",
      "FIRE:    6 12:13:22        9.542012*       2.0584\n",
      "FIRE:    7 12:13:22        9.401488*       2.0916\n",
      "FIRE:    8 12:13:22        9.219404*       2.0865\n",
      "FIRE:    9 12:13:22        8.993709*       1.9603\n",
      "FIRE:   10 12:13:22        8.747434*       1.5100\n",
      "FIRE:   11 12:13:22        8.582779*       0.6554\n",
      "FIRE:   12 12:13:22        8.701616*       2.8031\n",
      "FIRE:   13 12:13:22        8.677077*       2.6013\n",
      "FIRE:   14 12:13:22        8.634775*       2.2374\n",
      "FIRE:   15 12:13:23        8.585337*       1.7795\n",
      "FIRE:   16 12:13:23        8.539149*       1.3107\n",
      "FIRE:   17 12:13:23        8.503149*       0.9278\n",
      "FIRE:   18 12:13:23        8.479404*       0.7415\n",
      "FIRE:   19 12:13:23        8.465244*       0.7735\n",
      "FIRE:   20 12:13:23        8.454338*       0.9060\n",
      "FIRE:   21 12:13:23        8.440764*       1.0369\n",
      "FIRE:   22 12:13:23        8.418124*       1.1264\n",
      "FIRE:   23 12:13:23        8.380642*       1.1646\n",
      "FIRE:   24 12:13:23        8.323826*       1.1506\n",
      "FIRE:   25 12:13:23        8.245245*       1.0897\n",
      "FIRE:   26 12:13:23        8.145518*       1.0030\n",
      "FIRE:   27 12:13:23        8.028236*       0.9591\n",
      "FIRE:   28 12:13:23        7.894995*       1.0436\n",
      "FIRE:   29 12:13:23        7.736226*       1.1696\n",
      "FIRE:   30 12:13:24        7.540729*       1.1243\n",
      "FIRE:   31 12:13:24        7.338035*       0.8415\n",
      "FIRE:   32 12:13:24        7.226503*       0.6388\n",
      "FIRE:   33 12:13:24        7.265286*       0.9671\n",
      "FIRE:   34 12:13:24        7.254846*       0.9057\n",
      "FIRE:   35 12:13:24        7.236513*       0.7901\n",
      "FIRE:   36 12:13:24        7.214583*       0.6332\n",
      "FIRE:   37 12:13:24        7.193845*       0.4532\n",
      "FIRE:   38 12:13:24        7.178370*       0.2634\n",
      "FIRE:   39 12:13:24        7.170707*       0.0769\n",
      "FIRE:   40 12:13:24        7.171548*       0.1133\n",
      "FIRE:   41 12:13:24        7.171512*       0.1121\n",
      "FIRE:   42 12:13:24        7.171441*       0.1097\n",
      "FIRE:   43 12:13:24        7.171338*       0.1061\n",
      "FIRE:   44 12:13:24        7.171207*       0.1014\n",
      "FIRE:   45 12:13:24        7.171054*       0.0957\n",
      "FIRE:   46 12:13:24        7.170885*       0.0889\n",
      "FIRE:   47 12:13:25        7.170706*       0.0813\n",
      "FIRE:   48 12:13:25        7.170507*       0.0728\n",
      "FIRE:   49 12:13:25        7.170296*       0.0625\n",
      "FIRE:   50 12:13:25        7.170090*       0.0504\n",
      "FIRE:   51 12:13:25        7.169910*       0.0369\n",
      "      Step     Time          Energy         fmax\n",
      "*Force-consistent energies used in optimization.\n",
      "FIRE:    0 12:13:25       10.616127*       1.4652\n",
      "FIRE:    1 12:13:25       10.605408*       1.4699\n",
      "FIRE:    2 12:13:25       10.583835*       1.4792\n",
      "FIRE:    3 12:13:25       10.551139*       1.4930\n",
      "FIRE:    4 12:13:25       10.506923*       1.5109\n",
      "FIRE:    5 12:13:25       10.450671*       1.5324\n",
      "FIRE:    6 12:13:25       10.381757*       1.5571\n",
      "FIRE:    7 12:13:25       10.299461*       1.5848\n",
      "FIRE:    8 12:13:25       10.191807*       1.6187\n",
      "FIRE:    9 12:13:25       10.051151*       1.6600\n",
      "FIRE:   10 12:13:25        9.867245*       1.7121\n",
      "FIRE:   11 12:13:26        9.626421*       1.7726\n",
      "FIRE:   12 12:13:26        9.312049*       1.8198\n",
      "FIRE:   13 12:13:26        8.906837*       1.8394\n",
      "FIRE:   14 12:13:26        8.401823*       1.7725\n",
      "FIRE:   15 12:13:26        7.928009*       1.5489\n",
      "FIRE:   16 12:13:26        7.545839*       1.1165\n",
      "FIRE:   17 12:13:26        7.329218*       0.3670\n",
      "FIRE:   18 12:13:26        7.373441*       0.7520\n",
      "FIRE:   19 12:13:26        7.367891*       0.7162\n",
      "FIRE:   20 12:13:26        7.357826*       0.6471\n",
      "FIRE:   21 12:13:26        7.345090*       0.5498\n",
      "FIRE:   22 12:13:26        7.331932*       0.4309\n",
      "FIRE:   23 12:13:26        7.320561*       0.2978\n",
      "FIRE:   24 12:13:26        7.312745*       0.1592\n",
      "FIRE:   25 12:13:26        7.309556*       0.0216\n"
     ]
    }
   ],
   "source": [
    "from ase.optimize import FIRE\n",
    "from ase.constraints import FixAtoms\n",
    "# For the purpose of this tutorial a  constraint is set for all of the surface atoms\n",
    "# Constraints used should always be specific to your system and applied following tests\n",
    "freeze = FixAtoms([atom.index for atom in slab_initial if atom.tag > 0])\n",
    "slab_initial.set_constraint(freeze)\n",
    "slab_final.set_constraint(freeze)\n",
    "\n",
    "opt = FIRE(slab_initial, trajectory=\"slab_initial.traj\", restart=\"slab_initial.pckl\")\n",
    "opt.run(fmax=0.05)\n",
    "opt = FIRE(slab_final, trajectory=\"slab_final.traj\", restart=\"slab_final.pckl\")\n",
    "opt.run(fmax=0.05)\n",
    "\n",
    "# You can have a look at the model using the visualizer\n",
    "from ase.visualize import view\n",
    "#view(slab_initial)\n",
    "#view(slab_final)"
   ]
  },
  {
   "cell_type": "markdown",
   "metadata": {},
   "source": [
    "Now that we have the structures prepared, we need to look for an activation energy for transition between slab_initial and slab_final.\n",
    "\n",
    "There are multiple ways one can approach this problem, but all will in the end help to establish highest energy geometry linking these two structures - the transition state.\n",
    "\n",
    "    a.) NEB\n",
    "    b.) MLNEB\n",
    "    c.) AutoNEB\n",
    "    d.) Surface diffusion energy barriers using ASE constraints - fixed plane\n",
    "    e.) Surface diffusion energy barriers using ASE constraints - fixed bond lengths\n",
    "    f.) Dimer Method (and Improved Dimer Method)\n",
    "    g.) Growing String method\n",
    "    h.) More are being developed"
   ]
  },
  {
   "cell_type": "markdown",
   "metadata": {},
   "source": [
    "a.) Nudged Elastic Band - NEB\n",
    "\n",
    "\"The Nudged Elastic Band method is a technique for finding transition paths (and corresponding energy barriers) between given initial and final states. The method involves constructing a “chain” of “replicas” or “images” of the system and relaxing them in a certain way.\"\n",
    "\n",
    "Detailed description of the NEB class as implemented in ASE, including useful publications:\n",
    "https://wiki.fysik.dtu.dk/ase/ase/neb.html?highlight=neb#module-ase.neb\n",
    "ASE take on this tutorial, exploring the functionality a bit more:\n",
    "https://wiki.fysik.dtu.dk/ase/tutorials/neb/diffusion.html\n",
    "\n",
    "The \"classic\" NEB is a bit of a brute force approach. It takes a lot of trial and error to get below convergence criteria and it is costly. All of the \"images\" mentioned above are optimised per iteration, so if one is interested in getting to know the Minimum Energy Path (MEP) better, often number of DFT calculations goes into thousands.\n",
    "\n",
    "One of the problems associated with NEBs in general is that they rely heavily on the user-provided input structures. If they are not optimal due to complexity of the process, the MEP is elongated and the overall experiment becomes more expensive. There are ways of improving initial/final guesses, but not as straightforward with regular NEB.\n",
    "\n",
    "To overcome the complexity of the energy landscape we need to focus solely on the highest energy transition state and ignore the lesser maxima, which can arise due to rotations etc. For this we use a *climbing image* calculation (see NEB wiki for more info)."
   ]
  },
  {
   "cell_type": "code",
   "execution_count": 5,
   "metadata": {},
   "outputs": [
    {
     "name": "stdout",
     "output_type": "stream",
     "text": [
      "      Step     Time          Energy         fmax\n",
      "*Force-consistent energies used in optimization.\n",
      "FIRE:    0 12:13:27        7.452958*       0.8175\n",
      "FIRE:    1 12:13:27        7.446831*       0.7324\n",
      "FIRE:    2 12:13:27        7.437087*       0.5777\n",
      "FIRE:    3 12:13:27        7.427528*       0.3802\n",
      "FIRE:    4 12:13:27        7.421548*       0.1780\n",
      "FIRE:    5 12:13:28        7.420847*       0.1145\n",
      "FIRE:    6 12:13:28        7.420850*       0.1135\n",
      "FIRE:    7 12:13:28        7.420858*       0.1117\n",
      "FIRE:    8 12:13:28        7.420871*       0.1091\n",
      "FIRE:    9 12:13:28        7.420892*       0.1058\n",
      "FIRE:   10 12:13:28        7.420924*       0.1019\n",
      "FIRE:   11 12:13:29        7.420969*       0.0976\n",
      "FIRE:   12 12:13:29        7.421032*       0.0932\n",
      "FIRE:   13 12:13:29        7.421124*       0.0884\n",
      "FIRE:   14 12:13:29        7.421257*       0.0835\n",
      "FIRE:   15 12:13:29        7.421442*       0.0791\n",
      "FIRE:   16 12:13:29        7.421690*       0.0753\n",
      "FIRE:   17 12:13:30        7.422009*       0.0724\n",
      "FIRE:   18 12:13:30        7.422394*       0.0697\n",
      "FIRE:   19 12:13:30        7.422835*       0.0656\n",
      "FIRE:   20 12:13:30        7.423313*       0.0589\n",
      "FIRE:   21 12:13:30        7.423815*       0.0494\n"
     ]
    },
    {
     "data": {
      "text/plain": [
       "True"
      ]
     },
     "execution_count": 5,
     "metadata": {},
     "output_type": "execute_result"
    }
   ],
   "source": [
    "# a) NEB code in ASE\n",
    "from ase.neb import NEB\n",
    "from ase.calculators.emt import EMT\n",
    "import copy\n",
    "\n",
    "# Make a band consisting of 7 images (including initial and final)\n",
    "# Very important - each image has to have a separate calculator!\n",
    "# If one wants to use a single calculator, e.g. sockets with FHI-aims,\n",
    "# the SingleCalculatorNEB class needs to be used in instead\n",
    "images = [slab_initial]\n",
    "images += [slab_initial.copy() for i in range(5)]\n",
    "images += [slab_final]\n",
    "neb = NEB(images, climb=True) # use climbing image calculation\n",
    "# Interpolate linearly the potisions of the three middle images:\n",
    "neb.interpolate()\n",
    "# Set calculators:\n",
    "for image in images[1:6]:\n",
    "    image.set_calculator(EMT())\n",
    "\n",
    "# Optimize:\n",
    "optimizer = FIRE(neb,\n",
    "                trajectory='A2B.traj' # when running a real calculation make sure to save the output!\n",
    "                 )\n",
    "optimizer.run(fmax=0.05)\n",
    "\n",
    "# Use ASE GUI to view the MEP\n",
    "#view(images)\n"
   ]
  },
  {
   "cell_type": "code",
   "execution_count": 30,
   "metadata": {},
   "outputs": [
    {
     "data": {
      "image/png": "[encoded data removed]",
      "text/plain": [
       "<Figure size 432x288 with 1 Axes>"
      ]
     },
     "metadata": {},
     "output_type": "display_data"
    }
   ],
   "source": [
    "# Now let's analyse the output, if dealing with one calculation it is sufficient to use\n",
    "# ASE GUI and choose Tools --> NEB to see the plot\n",
    "\n",
    "import matplotlib.pyplot as plt\n",
    "from ase.neb import NEBTools\n",
    "\n",
    "nebtools = NEBTools(images)\n",
    "\n",
    "# Get the calculated barrier and the energy change of the reaction.\n",
    "Ef, dE = nebtools.get_barrier()\n",
    "\n",
    "# Get the actual maximum force at this point in the simulation.\n",
    "max_force = nebtools.get_fmax()\n",
    "\n",
    "# Create a figure like that coming from ASE-GUI.\n",
    "fig = nebtools.plot_band() # TODO: Why is this not generated when only runs once in Jupyter Notebook?\n",
    "fig.savefig('barrier-neb.png')"
   ]
  },
  {
   "cell_type": "markdown",
   "metadata": {},
   "source": [
    "b) Machine Learning NEB by CatLearn (MLNEB)\n",
    "\n",
    "NEB images are generated and added dynamically based on the Gaussian Training Process. Each image is a product of a single-point calculation rather than optimisation. Overall efficiency in terms of resources should be increased by an order of magnitude.\n",
    "\n",
    "If you use CatLearn's ML-NEB module, please cite:\n",
    "\n",
    "   J. A. Garrido Torres, M. H. Hansen, P. C. Jennings,\n",
    "   J. R. Boes and T. Bligaard. Phys. Rev. Lett. 122, 156001.\n",
    "   https://journals.aps.org/prl/abstract/10.1103/PhysRevLett.122.156001"
   ]
  },
  {
   "cell_type": "code",
   "execution_count": 7,
   "metadata": {},
   "outputs": [
    {
     "name": "stderr",
     "output_type": "stream",
     "text": [
      "/home/igor/.local/lib/python3.6/site-packages/ase/parallel.py:342: FutureWarning: ase.parallel.rank has been deprecated.  Please use ase.parallel.world.rank instead.\n",
      "  FutureWarning)\n",
      "/home/igor/.local/lib/python3.6/site-packages/ase/io/jsonio.py:122: VisibleDeprecationWarning: Creating an ndarray from ragged nested sequences (which is a list-or-tuple of lists-or-tuples-or ndarrays with different lengths or shapes) is deprecated. If you meant to do this, you must specify 'dtype=object' when creating the ndarray\n",
      "  a = np.array(obj)\n",
      "/home/igor/.local/lib/python3.6/site-packages/ase/atoms.py:921: VisibleDeprecationWarning: Use get_global_number_of_atoms() instead\n",
      "  np.VisibleDeprecationWarning)\n"
     ]
    },
    {
     "name": "stdout",
     "output_type": "stream",
     "text": [
      " \n",
      "       ____      _   _                          \n",
      "      / ___|__ _| |_| |    ___  __ _ _ __ _ __  \n",
      "     | |   / _` | __| |   / _ \\/ _` | '__| '_ \\ \n",
      "     | |__| (_| | |_| |__|  __/ (_| | |  | | | |\n",
      "      \\____\\__,_|\\__|_____\\___|\\__,_|_|  |_| |_| ML-NEB 0.6.2\n",
      "      \n",
      "      \n",
      "+--------+------+---------------------+---------------------+---------------------+--------------+--------------+----------+\n",
      "| Method | Step |        Time         | Pred. barrier (-->) | Pred. barrier (<--) | Max. uncert. | Avg. uncert. |   fmax   |\n",
      "+--------+------+---------------------+---------------------+------------------+--------------+--------------+----------+\n",
      "| ML-NEB |     0| 2020-07-01 12:13:31 |             0.000000|             0.000000|      0.000000|      0.000000|  0.021585|\n",
      "+--------+------+---------------------+---------------------+------------------+--------------+--------------+----------+\n",
      "+--------+------+---------------------+---------------------+---------------------+--------------+--------------+----------+\n",
      "| Method | Step |        Time         | Pred. barrier (-->) | Pred. barrier (<--) | Max. uncert. | Avg. uncert. |   fmax   |\n",
      "+--------+------+---------------------+---------------------+------------------+--------------+--------------+----------+\n",
      "| ML-NEB |     0| 2020-07-01 12:13:31 |             0.000000|             0.000000|      0.000000|      0.000000|  0.021585|\n",
      "| ML-NEB |     1| 2020-07-01 12:13:31 |             0.000000|             0.000000|      0.000000|      0.000000|  0.720728|\n",
      "+--------+------+---------------------+---------------------+------------------+--------------+--------------+----------+\n",
      "\n",
      "\n",
      "Training a Gaussian process...\n",
      "Number of training points: 3\n",
      "Gaussian process trained.\n"
     ]
    },
    {
     "name": "stderr",
     "output_type": "stream",
     "text": [
      "/home/igor/.local/lib/python3.6/site-packages/scipy/optimize/_numdiff.py:519: RuntimeWarning: invalid value encountered in true_divide\n",
      "  J_transposed[i] = df / dx\n"
     ]
    },
    {
     "name": "stdout",
     "output_type": "stream",
     "text": [
      "\n",
      "\n",
      "+--------+------+---------------------+---------------------+---------------------+--------------+--------------+----------+\n",
      "| Method | Step |        Time         | Pred. barrier (-->) | Pred. barrier (<--) | Max. uncert. | Avg. uncert. |   fmax   |\n",
      "+--------+------+---------------------+---------------------+------------------+--------------+--------------+----------+\n",
      "| ML-NEB |     0| 2020-07-01 12:13:36 |             0.000000|             0.000000|      0.000000|      0.000000|  0.021585|\n",
      "| ML-NEB |     1| 2020-07-01 12:13:36 |             0.000000|             0.000000|      0.000000|      0.000000|  0.720728|\n",
      "| ML-NEB |     2| 2020-07-01 12:13:36 |             0.144320|             0.004670|      0.095090|      0.053250|  1.800703|\n",
      "+--------+------+---------------------+---------------------+------------------+--------------+--------------+----------+\n",
      "\n",
      "\n",
      "Training a Gaussian process...\n",
      "Number of training points: 4\n",
      "Gaussian process trained.\n",
      "\n",
      "\n",
      "+--------+------+---------------------+---------------------+---------------------+--------------+--------------+----------+\n",
      "| Method | Step |        Time         | Pred. barrier (-->) | Pred. barrier (<--) | Max. uncert. | Avg. uncert. |   fmax   |\n",
      "+--------+------+---------------------+---------------------+------------------+--------------+--------------+----------+\n",
      "| ML-NEB |     0| 2020-07-01 12:13:38 |             0.000000|             0.000000|      0.000000|      0.000000|  0.021585|\n",
      "| ML-NEB |     1| 2020-07-01 12:13:38 |             0.000000|             0.000000|      0.000000|      0.000000|  0.720728|\n",
      "| ML-NEB |     2| 2020-07-01 12:13:38 |             0.144320|             0.004670|      0.095090|      0.053250|  1.800703|\n",
      "| ML-NEB |     3| 2020-07-01 12:13:38 |             0.255180|             0.115540|      0.013320|      0.012700|  0.205430|\n",
      "+--------+------+---------------------+---------------------+------------------+--------------+--------------+----------+\n",
      "\n",
      "\n",
      "Training a Gaussian process...\n",
      "Number of training points: 5\n",
      "Gaussian process trained.\n",
      "\n",
      "\n",
      "+--------+------+---------------------+---------------------+---------------------+--------------+--------------+----------+\n",
      "| Method | Step |        Time         | Pred. barrier (-->) | Pred. barrier (<--) | Max. uncert. | Avg. uncert. |   fmax   |\n",
      "+--------+------+---------------------+---------------------+------------------+--------------+--------------+----------+\n",
      "| ML-NEB |     0| 2020-07-01 12:13:41 |             0.000000|             0.000000|      0.000000|      0.000000|  0.021585|\n",
      "| ML-NEB |     1| 2020-07-01 12:13:41 |             0.000000|             0.000000|      0.000000|      0.000000|  0.720728|\n",
      "| ML-NEB |     2| 2020-07-01 12:13:41 |             0.144320|             0.004670|      0.095090|      0.053250|  1.800703|\n",
      "| ML-NEB |     3| 2020-07-01 12:13:41 |             0.255180|             0.115540|      0.013320|      0.012700|  0.205430|\n",
      "| ML-NEB |     4| 2020-07-01 12:13:41 |             0.253530|             0.113880|      0.026160|      0.017370|  0.489841|\n",
      "+--------+------+---------------------+---------------------+------------------+--------------+--------------+----------+\n",
      "\n",
      "\n",
      "Training a Gaussian process...\n",
      "Number of training points: 6\n",
      "Gaussian process trained.\n",
      "\n",
      "\n",
      "+--------+------+---------------------+---------------------+---------------------+--------------+--------------+----------+\n",
      "| Method | Step |        Time         | Pred. barrier (-->) | Pred. barrier (<--) | Max. uncert. | Avg. uncert. |   fmax   |\n",
      "+--------+------+---------------------+---------------------+------------------+--------------+--------------+----------+\n",
      "| ML-NEB |     0| 2020-07-01 12:13:43 |             0.000000|             0.000000|      0.000000|      0.000000|  0.021585|\n",
      "| ML-NEB |     1| 2020-07-01 12:13:43 |             0.000000|             0.000000|      0.000000|      0.000000|  0.720728|\n",
      "| ML-NEB |     2| 2020-07-01 12:13:43 |             0.144320|             0.004670|      0.095090|      0.053250|  1.800703|\n",
      "| ML-NEB |     3| 2020-07-01 12:13:43 |             0.255180|             0.115540|      0.013320|      0.012700|  0.205430|\n",
      "| ML-NEB |     4| 2020-07-01 12:13:43 |             0.253530|             0.113880|      0.026160|      0.017370|  0.489841|\n",
      "| ML-NEB |     5| 2020-07-01 12:13:43 |             0.257900|             0.118260|      0.014060|      0.011970|  0.032286|\n",
      "+--------+------+---------------------+---------------------+------------------+--------------+--------------+----------+\n",
      "Congratulations! Stationary point is found! Check the file 'evaluated_structures.traj' using ASE.\n",
      "\n",
      "\n",
      "Training a Gaussian process...\n",
      "Number of training points: 7\n",
      "Gaussian process trained.\n",
      "Congratulations! Your ML NEB is converged. If you want to plot the ML NEB predicted path you should check the files 'results_neb.csv' and 'results_neb_interpolation.csv'.\n",
      "The optimized predicted path can be found in:  ML-NEB.traj\n",
      "Number of steps performed in total: 5\n",
      "----------------------------------------------------------------------------------------------------------------------\n",
      "You are using ML-NEB and CatLearn. Please cite: \n",
      "[1] J. A. Garrido Torres, M. H. Hansen, P. C. Jennings, J. R. Boes and T. Bligaard. Phys. Rev. Lett. 122, 156001. https://journals.aps.org/prl/abstract/10.1103/PhysRevLett.122.156001 \n",
      "[2] M. H. Hansen, J. A. Garrido Torres, P. C. Jennings, Z. Wang, J. R. Boes, O. G. Mamun and T. Bligaard. An Atomistic Machine Learning Packagefor Surface Science and Catalysis. https://arxiv.org/abs/1904.00904 \n",
      "----------------------------------------------------------------------------------------------------------------------\n"
     ]
    }
   ],
   "source": [
    "from catlearn.optimize.mlneb import MLNEB\n",
    "from ase.calculators.emt import EMT\n",
    "\n",
    "# Desired nuber of images including start and end point\n",
    "# Can be fraction e.g. 0.25, then the number of imaages is then determined automatically based on MEP length\n",
    "n = 7 \n",
    "\n",
    "calculator = EMT()\n",
    "interpolation = \"idpp\" #or your own supplied path\n",
    "\n",
    "# Setup the Catlearn object for MLNEB\n",
    "neb_catlearn = MLNEB(start=slab_initial,\n",
    "                     end=slab_final,\n",
    "                     ase_calc=calculator,\n",
    "                     n_images=n,\n",
    "                     interpolation=interpolation, restart=False) #When True looks for evaluated_structures.traj\n",
    "\n",
    "# Run the NEB optimisation. Adjust fmax to desired convergence criteria, usually 0.01 ev/A\n",
    "neb_catlearn.run(fmax=0.05, trajectory='ML-NEB.traj', full_output=False, steps=75)\n",
    "\n",
    "# Warning, this calculation takes some time on a local system, but it is little compared to DFT calculations\n",
    "# on periodic surface models. Might not be ideal for trivial systems, e.g. small molecules in the gas phase.\n",
    "\n"
   ]
  },
  {
   "cell_type": "code",
   "execution_count": 8,
   "metadata": {},
   "outputs": [],
   "source": [
    "# Check the output of MLNEB\n",
    "from ase.io import read\n",
    "#view(read(\"ML-NEB.traj@:\"))"
   ]
  },
  {
   "cell_type": "code",
   "execution_count": 9,
   "metadata": {},
   "outputs": [
    {
     "name": "stderr",
     "output_type": "stream",
     "text": [
      "/home/igor/.local/lib/python3.6/site-packages/ase/io/jsonio.py:122: VisibleDeprecationWarning: Creating an ndarray from ragged nested sequences (which is a list-or-tuple of lists-or-tuples-or ndarrays with different lengths or shapes) is deprecated. If you meant to do this, you must specify 'dtype=object' when creating the ndarray\n",
      "  a = np.array(obj)\n"
     ]
    },
    {
     "data": {
      "image/png": "[encoded data removed]",
      "text/plain": [
       "<Figure size 432x288 with 1 Axes>"
      ]
     },
     "metadata": {},
     "output_type": "display_data"
    }
   ],
   "source": [
    "# Now let's analyse the output, if dealing with one calculation it is sufficient to use\n",
    "# ASE GUI and choose Tools --> NEB to see the plot\n",
    "\n",
    "import matplotlib.pyplot as plt\n",
    "from ase.neb import NEBTools\n",
    "from ase.io import read\n",
    "\n",
    "nebtools = NEBTools(read(\"ML-NEB.traj@:\"))\n",
    "\n",
    "# Get the calculated barrier and the energy change of the reaction.\n",
    "Ef, dE = nebtools.get_barrier()\n",
    "\n",
    "# Get the actual maximum force at this point in the simulation.\n",
    "max_force = nebtools.get_fmax()\n",
    "\n",
    "# Create a figure like that coming from ASE-GUI.\n",
    "fig = nebtools.plot_band()\n",
    "fig.savefig('barrier-mlneb.png')\n"
   ]
  },
  {
   "cell_type": "markdown",
   "metadata": {},
   "source": [
    "c) AutoNEB\n",
    "https://wiki.fysik.dtu.dk/ase/dev/_modules/ase/autoneb.html\n",
    "Similarly to MLNEB it adds images dynamically, but performs optimisations on each image sequentially.\n",
    "Files need a strict naming scheme."
   ]
  },
  {
   "cell_type": "code",
   "execution_count": 10,
   "metadata": {},
   "outputs": [
    {
     "name": "stdout",
     "output_type": "stream",
     "text": [
      "The NEB initially has 7 images  (including the end-points)\n",
      "Start of evaluation of the initial images\n",
      "Finished initialisation phase.\n",
      "n_max images has been reached\n",
      "****Now doing the CI-NEB calculation****\n"
     ]
    },
    {
     "name": "stderr",
     "output_type": "stream",
     "text": [
      "/home/igor/.local/lib/python3.6/site-packages/ase/io/jsonio.py:122: VisibleDeprecationWarning: Creating an ndarray from ragged nested sequences (which is a list-or-tuple of lists-or-tuples-or ndarrays with different lengths or shapes) is deprecated. If you meant to do this, you must specify 'dtype=object' when creating the ndarray\n",
      "  a = np.array(obj)\n"
     ]
    },
    {
     "name": "stdout",
     "output_type": "stream",
     "text": [
      "Now starting iteration 1 on  range(3, 6)\n"
     ]
    },
    {
     "data": {
      "text/plain": [
       "[Atoms(symbols='Au18Cu2', pbc=[True, True, False], cell=[[8.817000000000002, 0.0, 0.0], [4.408500000000001, 7.635745985167396, 0.0], [0.0, 0.0, 22.399683451346586]], tags=..., constraint=FixAtoms(indices=[0, 1, 2, 3, 4, 5, 6, 7, 8, 9, 10, 11, 12, 13, 14, 15, 16, 17]), calculator=SinglePointCalculator(...)),\n",
       " Atoms(symbols='Au18Cu2', pbc=[True, True, False], cell=[[8.817000000000002, 0.0, 0.0], [4.408500000000001, 7.635745985167396, 0.0], [0.0, 0.0, 22.399683451346586]], tags=..., constraint=FixAtoms(indices=[0, 1, 2, 3, 4, 5, 6, 7, 8, 9, 10, 11, 12, 13, 14, 15, 16, 17]), calculator=SinglePointCalculator(...)),\n",
       " Atoms(symbols='Au18Cu2', pbc=[True, True, False], cell=[[8.817000000000002, 0.0, 0.0], [4.408500000000001, 7.635745985167396, 0.0], [0.0, 0.0, 22.399683451346586]], tags=..., constraint=FixAtoms(indices=[0, 1, 2, 3, 4, 5, 6, 7, 8, 9, 10, 11, 12, 13, 14, 15, 16, 17]), calculator=SinglePointCalculator(...)),\n",
       " Atoms(symbols='Au18Cu2', pbc=[True, True, False], cell=[[8.817000000000002, 0.0, 0.0], [4.408500000000001, 7.635745985167396, 0.0], [0.0, 0.0, 22.399683451346586]], tags=..., constraint=FixAtoms(indices=[0, 1, 2, 3, 4, 5, 6, 7, 8, 9, 10, 11, 12, 13, 14, 15, 16, 17]), calculator=SinglePointCalculator(...)),\n",
       " Atoms(symbols='Au18Cu2', pbc=[True, True, False], cell=[[8.817000000000002, 0.0, 0.0], [4.408500000000001, 7.635745985167396, 0.0], [0.0, 0.0, 22.399683451346586]], tags=..., constraint=FixAtoms(indices=[0, 1, 2, 3, 4, 5, 6, 7, 8, 9, 10, 11, 12, 13, 14, 15, 16, 17]), calculator=EMT(...)),\n",
       " Atoms(symbols='Au18Cu2', pbc=[True, True, False], cell=[[8.817000000000002, 0.0, 0.0], [4.408500000000001, 7.635745985167396, 0.0], [0.0, 0.0, 22.399683451346586]], tags=..., constraint=FixAtoms(indices=[0, 1, 2, 3, 4, 5, 6, 7, 8, 9, 10, 11, 12, 13, 14, 15, 16, 17]), calculator=SinglePointCalculator(...)),\n",
       " Atoms(symbols='Au18Cu2', pbc=[True, True, False], cell=[[8.817000000000002, 0.0, 0.0], [4.408500000000001, 7.635745985167396, 0.0], [0.0, 0.0, 22.399683451346586]], tags=..., constraint=FixAtoms(indices=[0, 1, 2, 3, 4, 5, 6, 7, 8, 9, 10, 11, 12, 13, 14, 15, 16, 17]), calculator=SinglePointCalculator(...))]"
      ]
     },
     "execution_count": 10,
     "metadata": {},
     "output_type": "execute_result"
    }
   ],
   "source": [
    "from ase.autoneb import AutoNEB\n",
    "# AutoNEB requires a function that is assigning calculators to the generated images\n",
    "def attach_calculators(images):\n",
    "    for i in range(len(images)):\n",
    "        images[i].set_calculator(EMT())\n",
    "        \n",
    "# Follow the naming scheme on input structures specified in 'prefix'\n",
    "from ase.io.trajectory import Trajectory\n",
    "import os\n",
    "if not os.path.exists(\"neb000.traj\"):\n",
    "    initial_traj = Trajectory(\"neb000.traj\", 'w')\n",
    "    initial_traj.write(slab_initial)\n",
    "    final_traj = Trajectory(\"neb001.traj\", 'w')\n",
    "    final_traj.write(slab_final)\n",
    "\n",
    "### Autoneb settings\n",
    "# number of images including initial and final\n",
    "n = 7\n",
    "\n",
    "neb = AutoNEB      (attach_calculators,\n",
    "                    climb=True,\n",
    "                    prefix = \"neb\",\n",
    "                    n_max = n, # total no. images\n",
    "                    n_simul= 1, # images in parallel - difficult to increase with FHI-aims, requires separate folders for each calc\n",
    "                    optimizer = \"FIRE\", #or BFGS\n",
    "                    fmax = 0.05, # make sure to change these\n",
    "                    k = 0.05,\n",
    "                    parallel = False\n",
    "                    )\n",
    "\n",
    "neb.run()"
   ]
  },
  {
   "cell_type": "code",
   "execution_count": 11,
   "metadata": {},
   "outputs": [
    {
     "name": "stderr",
     "output_type": "stream",
     "text": [
      "/home/igor/.local/lib/python3.6/site-packages/ase/io/jsonio.py:122: VisibleDeprecationWarning: Creating an ndarray from ragged nested sequences (which is a list-or-tuple of lists-or-tuples-or ndarrays with different lengths or shapes) is deprecated. If you meant to do this, you must specify 'dtype=object' when creating the ndarray\n",
      "  a = np.array(obj)\n"
     ]
    },
    {
     "data": {
      "image/png": "[encoded data removed]",
      "text/plain": [
       "<Figure size 432x288 with 1 Axes>"
      ]
     },
     "metadata": {},
     "output_type": "display_data"
    }
   ],
   "source": [
    "# from command line images can be joined together using:\n",
    "# ase gui neb???.traj -n -1\n",
    "from ase.io import read\n",
    "images_autoneb = []\n",
    "for i in range(n):\n",
    "    atoms = read(\"neb00\" + str(i) +\".traj@-1\")\n",
    "    images_autoneb += [atoms]\n",
    "\n",
    "from ase.visualize import view\n",
    "#view(images_autoneb)\n",
    "\n",
    "# Now let's analyse the output, if dealing with one calculation it is sufficient to use\n",
    "# ASE GUI and choose Tools --> NEB to see the plot\n",
    "\n",
    "import matplotlib.pyplot as plt\n",
    "from ase.neb import NEBTools\n",
    "from ase.io import read\n",
    "\n",
    "nebtools = NEBTools(images_autoneb)\n",
    "\n",
    "# Get the calculated barrier and the energy change of the reaction.\n",
    "Ef, dE = nebtools.get_barrier()\n",
    "\n",
    "# Get the actual maximum force at this point in the simulation.\n",
    "max_force = nebtools.get_fmax()\n",
    "\n",
    "# Create a figure like that coming from ASE-GUI.\n",
    "fig = nebtools.plot_band()\n",
    "fig.savefig('barrier-autoneb.png')\n"
   ]
  },
  {
   "cell_type": "markdown",
   "metadata": {},
   "source": [
    "d) Surface diffusion energy barriers using ASE constraints - fixed plane"
   ]
  },
  {
   "cell_type": "markdown",
   "metadata": {},
   "source": [
    "e.) Surface diffusion energy barriers using ASE constraints - fixed bond lengths\n",
    "Highly mobile adsorbates (e.g. H) on surfaces in periodic calculations can cause issues during NEB due to low metastability on neighbouring adsorption sites, which means that: i) MEP length is elongated ii) Energy landscape can be very complicated. To address this one can apply constraints in ASE on bond length between specific atoms.\n",
    "A function has been implemented in CARMM that helps to utilise this feature. \n",
    "\n",
    "Here let's try association, ie. reverse reaction and move Cu (atom index 19) closer and closer to the other Cu (atom index 18)."
   ]
  },
  {
   "cell_type": "code",
   "execution_count": 27,
   "metadata": {},
   "outputs": [
    {
     "name": "stdout",
     "output_type": "stream",
     "text": [
      "4.23.traj\n",
      "      Step     Time          Energy         fmax\n",
      "*Force-consistent energies used in optimization.\n",
      "FIRE:    0 12:30:57        7.334479*       0.0490\n",
      "3.97.traj\n"
     ]
    },
    {
     "name": "stderr",
     "output_type": "stream",
     "text": [
      "/home/igor/.local/lib/python3.6/site-packages/ase/io/jsonio.py:122: VisibleDeprecationWarning: Creating an ndarray from ragged nested sequences (which is a list-or-tuple of lists-or-tuples-or ndarrays with different lengths or shapes) is deprecated. If you meant to do this, you must specify 'dtype=object' when creating the ndarray\n",
      "  a = np.array(obj)\n"
     ]
    },
    {
     "name": "stdout",
     "output_type": "stream",
     "text": [
      "      Step     Time          Energy         fmax\n",
      "*Force-consistent energies used in optimization.\n",
      "FIRE:    0 12:30:57        7.389349*       0.0389\n",
      "3.72.traj\n",
      "      Step     Time          Energy         fmax\n",
      "*Force-consistent energies used in optimization.\n",
      "FIRE:    0 12:30:57        7.425697*       0.0399\n",
      "3.46.traj\n",
      "      Step     Time          Energy         fmax\n",
      "*Force-consistent energies used in optimization.\n",
      "FIRE:    0 12:30:58        7.369449*       0.0434\n",
      "3.20.traj\n",
      "      Step     Time          Energy         fmax\n",
      "*Force-consistent energies used in optimization.\n",
      "FIRE:    0 12:30:58        7.272971*       0.0426\n",
      "2.95.traj\n",
      "      Step     Time          Energy         fmax\n",
      "*Force-consistent energies used in optimization.\n",
      "FIRE:    0 12:30:58        7.199702*       0.0404\n",
      "2.69.traj\n",
      "      Step     Time          Energy         fmax\n",
      "*Force-consistent energies used in optimization.\n",
      "FIRE:    0 12:30:58        7.169759*       0.0407\n"
     ]
    }
   ],
   "source": [
    "# BOND LENGTH SCAN - DISSOCIATION/ASSOCIATION\n",
    "from carmm.build.neb.bond_length_scan import dissociation\n",
    "from ase.io import read\n",
    "from ase.io import Trajectory\n",
    "import os\n",
    "import numpy as np\n",
    "\n",
    "model = slab_final\n",
    "index1 = 18\t# index of atom remaining in place (as part of molecule) \n",
    "index2 = 19\t# index of atom dissociating/associationg\n",
    "\n",
    "distance_Cu_Cu = np.linalg.norm(slab_initial[index1].position - slab_initial[index2].position)\n",
    "\n",
    "atoms_list, distances = dissociation(model, \n",
    "                                     index1, \n",
    "                                     index2, \n",
    "                                     n_steps = 7,\n",
    "                                     final_distance=distance_Cu_Cu,\n",
    "                                    # step_size=0.1, # commented keywords are only used if final_distance is not set\n",
    "                                    # reverse=False, \n",
    "                                     )\n",
    "\n",
    "from ase.optimize import FIRE\n",
    "from ase.calculators.emt import EMT\n",
    "\n",
    "bl_scan = [slab_final] # list of all optimised structures will be generated\n",
    "\n",
    "for atoms in atoms_list:\n",
    "        # create naming scheme based on fixed Cu-Cu distance\n",
    "        a_a_dist = np.linalg.norm(atoms[index1].position - atoms[index2].position)\n",
    "\n",
    "        traj_name = \"{:.2f}\".format(a_a_dist) + \".traj\"\n",
    "        pckl_name = \"{:.2f}\".format(a_a_dist) + \".pckl\"\n",
    "        print(traj_name) # identify calculation in output\n",
    "        \n",
    "        \n",
    "        # Remove inverted comas when running actual calculations to utilise previous calculations\n",
    "        \n",
    "        # include functionality for restart \n",
    "        if not os.path.exists(traj_name):\n",
    "            pass\n",
    "        else:\n",
    "            atoms = read(traj_name)\n",
    "        \n",
    "        atoms.set_calculator(EMT())\n",
    "        \n",
    "        # optimise, include max steps for safety    \n",
    "        opt = FIRE(atoms, trajectory=traj_name, restart=pckl_name)\n",
    "        opt.run(fmax=0.05, steps=300)\n",
    "        \n",
    "        bl_scan += [atoms]\n"
   ]
  },
  {
   "cell_type": "code",
   "execution_count": 29,
   "metadata": {},
   "outputs": [
    {
     "data": {
      "image/png": "[encoded data removed]",
      "text/plain": [
       "<Figure size 432x288 with 1 Axes>"
      ]
     },
     "metadata": {},
     "output_type": "display_data"
    }
   ],
   "source": [
    "from ase.visualize import view\n",
    "# view(bl_scan)\n",
    "\n",
    "# Use the same tools as previously to analyse the output\n",
    "# ASE GUI and choose Tools --> NEB to see the plot\n",
    "\n",
    "import matplotlib.pyplot as plt\n",
    "from ase.neb import NEBTools\n",
    "from ase.io import read\n",
    "\n",
    "nebtools = NEBTools(bl_scan)\n",
    "\n",
    "# Get the calculated barrier and the energy change of the reaction.\n",
    "Ef, dE = nebtools.get_barrier()\n",
    "\n",
    "# Get the actual maximum force at this point in the simulation.\n",
    "max_force = nebtools.get_fmax()\n",
    "\n",
    "# Create a figure like that coming from ASE-GUI.\n",
    "fig = nebtools.plot_band()\n",
    "fig.savefig('barrier-mlneb.png')"
   ]
  },
  {
   "cell_type": "markdown",
   "metadata": {},
   "source": [
    "# TODO: neb(✓), mlneb(✓), AutoNEB(✓) linear scan, (also Growing string?, Dimer method?)\n",
    "# TODO: discuss indices in input structures (CO2 as example, avoid rotation during neb\n",
    "# TODO: discuss symmetry operations (where possible) to reduce path size\n",
    "# TODO: discuss difficult energy landscape, optimisations of local minima, dissociation with fixed bond lengths"
   ]
  },
  {
   "cell_type": "code",
   "execution_count": null,
   "metadata": {},
   "outputs": [],
   "source": []
  }
 ],
 "metadata": {
  "kernelspec": {
   "display_name": "Python 3",
   "language": "python",
   "name": "python3"
  },
  "language_info": {
   "codemirror_mode": {
    "name": "ipython",
    "version": 3
   },
   "file_extension": ".py",
   "mimetype": "text/x-python",
   "name": "python",
   "nbconvert_exporter": "python",
   "pygments_lexer": "ipython3",
   "version": "3.6.9"
  }
 },
 "nbformat": 4,
 "nbformat_minor": 4
}
