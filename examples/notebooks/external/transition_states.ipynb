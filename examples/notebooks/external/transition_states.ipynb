{
 "cells": [
  {
   "cell_type": "markdown",
   "metadata": {},
   "source": [
    "# Calculating trainsition states\n",
    "\n",
    "Identifying the most compute effective approach to calculating transition states can be difficult. Let us guide you through the options in this short notebook. **Pre-requisite: Familiarity with ASE**\n",
    "\n",
    "First, let us create a toy model of Au FCC(111) surface and 2 Cu ad atoms. "
   ]
  },
  {
   "cell_type": "code",
   "execution_count": 11,
   "metadata": {},
   "outputs": [],
   "source": [
    "from examples.data.model_gen import get_example_slab\n",
    "slab = get_example_slab(adsorbate=True, type=\"2Cu\")"
   ]
  },
  {
   "cell_type": "code",
   "execution_count": 12,
   "metadata": {},
   "outputs": [],
   "source": [
    "# You can have a look at the model using the visualizer\n",
    "from ase.visualize import view\n",
    "view(slab)"
   ]
  },
  {
   "cell_type": "markdown",
   "metadata": {},
   "source": [
    "In the model above the two Cu atoms are situated on top of hcp adsorption sites. The final geometry will be with copper atoms placed in non-neighbouring fcc and hcp sites. The goal is to calculate the transition state between the two and an activation energy."
   ]
  },
  {
   "cell_type": "code",
   "execution_count": 13,
   "metadata": {},
   "outputs": [],
   "source": [
    "slab_final = get_example_slab(adsorbate=True, type=\"2Cu\")\n",
    "hcp_position = [slab_final[1].x, (slab_final[15].y + slab_final[1].y)/2]\n",
    "# place the copper atom in the position specified above\n",
    "slab_final[19].x, slab_final[19].y = hcp_position[0], hcp_position[1]"
   ]
  },
  {
   "cell_type": "code",
   "execution_count": 14,
   "metadata": {},
   "outputs": [],
   "source": [
    "# You can have a look at the model using the visualizer\n",
    "from ase.visualize import view\n",
    "view(slab_final)"
   ]
  },
  {
   "cell_type": "markdown",
   "metadata": {},
   "source": [
    "Now before we proceed we need to make sure the structures are optimised. Forces convergence criterion is usually below 0.01 eV/Angstrom on each individual atom, but for the purposes of this tutorial a looser 0.05 value is used."
   ]
  },
  {
   "cell_type": "code",
   "execution_count": 16,
   "metadata": {},
   "outputs": [
    {
     "name": "stdout",
     "output_type": "stream",
     "text": [
      "      Step     Time          Energy         fmax\n",
      "BFGS:    0 11:50:41        9.933133        1.8648\n",
      "BFGS:    1 11:50:41        9.627327        1.9306\n",
      "BFGS:    2 11:50:41        9.194907        2.0233\n",
      "BFGS:    3 11:50:41        8.794003        2.0981\n",
      "BFGS:    4 11:50:41        8.428062        2.1393\n",
      "BFGS:    5 11:50:41        8.100149        2.1259\n",
      "BFGS:    6 11:50:41        7.813617        2.0321\n",
      "BFGS:    7 11:50:41        7.572905        1.8289\n",
      "BFGS:    8 11:50:41        7.384110        1.4881\n",
      "BFGS:    9 11:50:41        7.254673        1.0059\n",
      "BFGS:   10 11:50:41        7.189426        0.5810\n",
      "BFGS:   11 11:50:41        7.168996        0.6714\n",
      "BFGS:   12 11:50:41        7.132973        0.9588\n",
      "BFGS:   13 11:50:41        7.090725        1.2108\n",
      "BFGS:   14 11:50:41        7.044989        1.4316\n",
      "BFGS:   15 11:50:41        6.997261        1.6365\n",
      "BFGS:   16 11:50:41        6.948372        1.8309\n",
      "BFGS:   17 11:50:42        6.898973        2.0151\n",
      "BFGS:   18 11:50:42        6.849735        2.1872\n",
      "BFGS:   19 11:50:42        6.801284        2.3434\n",
      "BFGS:   20 11:50:42        6.754165        2.4793\n",
      "BFGS:   21 11:50:42        6.708565        2.5865\n",
      "BFGS:   22 11:50:42        6.663763        2.6534\n",
      "BFGS:   23 11:50:42        6.617814        2.6659\n",
      "BFGS:   24 11:50:42        6.567629        2.6096\n",
      "BFGS:   25 11:50:42        6.509866        2.4750\n",
      "BFGS:   26 11:50:42        6.442561        2.2628\n",
      "BFGS:   27 11:50:42        6.366512        1.9864\n",
      "BFGS:   28 11:50:42        6.285400        1.6696\n",
      "BFGS:   29 11:50:42        6.204338        1.3391\n",
      "BFGS:   30 11:50:42        6.127580        1.0150\n",
      "BFGS:   31 11:50:42        6.057445        0.7069\n",
      "BFGS:   32 11:50:42        5.995926        0.4610\n",
      "BFGS:   33 11:50:42        5.945252        0.4370\n",
      "BFGS:   34 11:50:42        5.913739        0.3605\n",
      "BFGS:   35 11:50:42        5.900607        0.3265\n",
      "BFGS:   36 11:50:42        5.889495        0.2188\n",
      "BFGS:   37 11:50:43        5.880796        0.1860\n",
      "BFGS:   38 11:50:43        5.875105        0.1701\n",
      "BFGS:   39 11:50:43        5.870006        0.2210\n",
      "BFGS:   40 11:50:43        5.862158        0.2506\n",
      "BFGS:   41 11:50:43        5.856485        0.1787\n",
      "BFGS:   42 11:50:43        5.854136        0.0872\n",
      "BFGS:   43 11:50:43        5.852990        0.0948\n",
      "BFGS:   44 11:50:43        5.851845        0.1085\n",
      "BFGS:   45 11:50:43        5.850268        0.1070\n",
      "BFGS:   46 11:50:43        5.848808        0.0815\n",
      "BFGS:   47 11:50:43        5.847994        0.0516\n",
      "BFGS:   48 11:50:43        5.847606        0.0424\n",
      "      Step     Time          Energy         fmax\n",
      "BFGS:    0 11:50:43       10.616127        1.4652\n",
      "BFGS:    1 11:50:43       10.364218        1.4838\n",
      "BFGS:    2 11:50:43        9.919750        1.5168\n",
      "BFGS:    3 11:50:43        9.526376        1.5498\n",
      "BFGS:    4 11:50:43        9.190309        1.5865\n",
      "BFGS:    5 11:50:43        8.911298        1.6266\n",
      "BFGS:    6 11:50:43        8.683368        1.6594\n",
      "BFGS:    7 11:50:43        8.495673        1.6869\n",
      "BFGS:    8 11:50:43        8.335790        1.7138\n",
      "BFGS:    9 11:50:43        8.192952        1.7384\n",
      "BFGS:   10 11:50:44        8.059357        1.7585\n",
      "BFGS:   11 11:50:44        7.930213        1.7720\n",
      "BFGS:   12 11:50:44        7.802947        1.7770\n",
      "BFGS:   13 11:50:44        7.676378        1.7714\n",
      "BFGS:   14 11:50:44        7.550140        1.7552\n",
      "BFGS:   15 11:50:44        7.424349        1.7268\n",
      "BFGS:   16 11:50:44        7.299459        1.6835\n",
      "BFGS:   17 11:50:44        7.176244        1.6186\n",
      "BFGS:   18 11:50:44        7.055618        1.5267\n",
      "BFGS:   19 11:50:44        6.938388        1.4083\n",
      "BFGS:   20 11:50:44        6.825362        1.2641\n",
      "BFGS:   21 11:50:44        6.717375        1.0950\n",
      "BFGS:   22 11:50:44        6.615092        1.0681\n",
      "BFGS:   23 11:50:44        6.518765        1.0151\n",
      "BFGS:   24 11:50:44        6.427907        0.9289\n",
      "BFGS:   25 11:50:44        6.340668        0.7975\n",
      "BFGS:   26 11:50:44        6.252739        0.5980\n",
      "BFGS:   27 11:50:44        6.159450        0.4297\n",
      "BFGS:   28 11:50:44        6.110600        0.3188\n",
      "BFGS:   29 11:50:44        6.088048        0.1977\n",
      "BFGS:   30 11:50:44        6.082676        0.1628\n",
      "BFGS:   31 11:50:45        6.076588        0.1614\n",
      "BFGS:   32 11:50:45        6.068246        0.1942\n",
      "BFGS:   33 11:50:45        6.059370        0.1890\n",
      "BFGS:   34 11:50:45        6.053105        0.1255\n",
      "BFGS:   35 11:50:45        6.049916        0.1118\n",
      "BFGS:   36 11:50:45        6.048107        0.0831\n",
      "BFGS:   37 11:50:45        6.045435        0.0809\n",
      "BFGS:   38 11:50:45        6.042178        0.0839\n",
      "BFGS:   39 11:50:45        6.039963        0.0717\n",
      "BFGS:   40 11:50:45        6.038959        0.0594\n",
      "BFGS:   41 11:50:45        6.038331        0.0474\n"
     ]
    },
    {
     "data": {
      "text/plain": [
       "True"
      ]
     },
     "execution_count": 16,
     "metadata": {},
     "output_type": "execute_result"
    }
   ],
   "source": [
    "from ase.optimize import BFGS\n",
    "# is there any way to avoid printing of optimisation steps?\n",
    "opt = BFGS(slab)\n",
    "opt.run(fmax=0.05)\n",
    "opt = BFGS(slab_final)\n",
    "opt.run(fmax=0.05)"
   ]
  },
  {
   "cell_type": "markdown",
   "metadata": {},
   "source": [
    "# TODO: neb, mlneb, linear scan, (also Growing string?, Dimer method?)\n",
    "# TODO: discuss indices in input structures (CO2 as example, avoid rotation during neb\n",
    "# TODO: discuss symmetry operations (where possible) to reduce path size\n",
    "# TODO: discuss difficult energy landscape, optimisations of local minima, dissociation with fixed bond lengths"
   ]
  }
 ],
 {
  "cell_type": "markdown",
  "metadata": {},
  "source": [
   "After the initial and final structures are optimized, we then create a list of atoms objects. The number of atoms object in this list is equal to the number of images we want in our NEB. "
  ]
 },
 {
  "cell_type": "code",
  "execution_count": null,
  "metadata": {},
  "outputs": [],
  "source": [
   "images = [slab.copy() for i in range(6)] + [slab_final]"
  ]
 },
 "metadata": {
  "kernelspec": {
   "display_name": "Python 3",
   "language": "python",
   "name": "python3"
  },
  "language_info": {
   "codemirror_mode": {
    "name": "ipython",
    "version": 3
   },
   "file_extension": ".py",
   "mimetype": "text/x-python",
   "name": "python",
   "nbconvert_exporter": "python",
   "pygments_lexer": "ipython3",
   "version": "3.6.9"
  }
 },
 "nbformat": 4,
 "nbformat_minor": 4
}
