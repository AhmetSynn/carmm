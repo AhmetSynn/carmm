{
 "cells": [
  {
   "cell_type": "markdown",
   "metadata": {},
   "source": [
    "# Calculating trainsition states\n",
    "\n",
    "Identifying the most compute effective approach to calculating transition states can be difficult. Let us guide you through the options in this short notebook. **Pre-requisite: Familiarity with ASE**\n",
    "\n",
    "First, let us create a toy model of Au FCC(111) surface and 2 Cu ad atoms. "
   ]
  },
  {
   "cell_type": "code",
   "execution_count": 1,
   "metadata": {},
   "outputs": [],
   "source": [
    "from examples.data.model_gen import get_example_slab\n",
    "slab_initial = get_example_slab(adsorbate=True, type=\"2Cu\")"
   ]
  },
  {
   "cell_type": "markdown",
   "metadata": {},
   "source": [
    "In the model above the two Cu atoms are situated on top of hcp adsorption sites. The final geometry will be with copper atoms placed in non-neighbouring fcc and hcp sites. The goal is to calculate the transition state between the two and an activation energy."
   ]
  },
  {
   "cell_type": "code",
   "execution_count": 2,
   "metadata": {},
   "outputs": [],
   "source": [
    "slab_final = get_example_slab(adsorbate=True, type=\"2Cu\")\n",
    "hcp_position = [slab_final[1].x, (slab_final[15].y + slab_final[1].y)/2]\n",
    "# place the copper atom in the position specified above\n",
    "slab_final[19].x, slab_final[19].y = hcp_position[0], hcp_position[1]"
   ]
  },
  {
   "cell_type": "markdown",
   "metadata": {},
   "source": [
    "Now before we proceed we need to make sure the structures are optimised. Forces convergence criterion is usually below 0.01 eV/Angstrom on each individual atom, but for the purposes of this tutorial a looser 0.05 value is used."
   ]
  },
  {
   "cell_type": "code",
   "execution_count": 3,
   "metadata": {
    "scrolled": true
   },
   "outputs": [
    {
     "name": "stdout",
     "output_type": "stream",
     "text": [
      "      Step     Time          Energy         fmax\n",
      "*Force-consistent energies used in optimization.\n",
      "FIRE:    0 10:53:08        9.933133*       1.8648\n",
      "FIRE:    1 10:53:08        9.850970*       1.9097\n",
      "FIRE:    2 10:53:08        9.692007*       1.9892\n",
      "FIRE:    3 10:53:08        9.445897*       2.0727\n",
      "FIRE:    4 10:53:08        9.109953*       2.0426\n",
      "FIRE:    5 10:53:08        8.736395*       1.5262\n",
      "FIRE:    6 10:53:08        8.561001*       0.9843\n",
      "FIRE:    7 10:53:08        8.556259*       0.9464\n",
      "FIRE:    8 10:53:08        8.547484*       0.8807\n",
      "FIRE:    9 10:53:08        8.535801*       0.8061\n",
      "FIRE:   10 10:53:08        8.522307*       0.7456\n",
      "FIRE:   11 10:53:08        8.507640*       0.7169\n",
      "FIRE:   12 10:53:08        8.491767*       0.7227\n",
      "FIRE:   13 10:53:09        8.474069*       0.7510\n",
      "FIRE:   14 10:53:09        8.451284*       0.7894\n",
      "FIRE:   15 10:53:09        8.420934*       0.8250\n",
      "FIRE:   16 10:53:09        8.380019*       0.8492\n",
      "FIRE:   17 10:53:09        8.325273*       0.8621\n",
      "FIRE:   18 10:53:09        8.253251*       0.8753\n",
      "FIRE:   19 10:53:09        8.159764*       0.9075\n",
      "FIRE:   20 10:53:09        8.038405*       0.9645\n",
      "FIRE:   21 10:53:09        7.879787*       1.0180\n",
      "FIRE:   22 10:53:09        7.676434*       1.0123\n",
      "FIRE:   23 10:53:09        7.441085*       0.8706\n",
      "FIRE:   24 10:53:09        7.261275*       0.5756\n",
      "FIRE:   25 10:53:09        7.217205*       0.6686\n",
      "FIRE:   26 10:53:09        7.212505*       0.6269\n",
      "FIRE:   27 10:53:10        7.204249*       0.5488\n",
      "FIRE:   28 10:53:10        7.194357*       0.4439\n",
      "FIRE:   29 10:53:10        7.184940*       0.3247\n",
      "FIRE:   30 10:53:10        7.177741*       0.2073\n",
      "FIRE:   31 10:53:10        7.173739*       0.1235\n",
      "FIRE:   32 10:53:10        7.172851*       0.1276\n",
      "FIRE:   33 10:53:10        7.172811*       0.1267\n",
      "FIRE:   34 10:53:10        7.172733*       0.1248\n",
      "FIRE:   35 10:53:10        7.172619*       0.1220\n",
      "FIRE:   36 10:53:10        7.172472*       0.1183\n",
      "FIRE:   37 10:53:10        7.172297*       0.1138\n",
      "FIRE:   38 10:53:10        7.172100*       0.1086\n",
      "FIRE:   39 10:53:10        7.171886*       0.1028\n",
      "FIRE:   40 10:53:10        7.171638*       0.0958\n",
      "FIRE:   41 10:53:11        7.171359*       0.0875\n",
      "FIRE:   42 10:53:11        7.171060*       0.0782\n",
      "FIRE:   43 10:53:11        7.170756*       0.0682\n",
      "FIRE:   44 10:53:11        7.170466*       0.0587\n",
      "FIRE:   45 10:53:11        7.170215*       0.0513\n",
      "FIRE:   46 10:53:11        7.170020*       0.0476\n",
      "      Step     Time          Energy         fmax\n",
      "*Force-consistent energies used in optimization.\n",
      "FIRE:    0 10:53:11       10.616127*       1.4652\n",
      "FIRE:    1 10:53:11       10.605408*       1.4699\n",
      "FIRE:    2 10:53:11       10.583835*       1.4792\n",
      "FIRE:    3 10:53:11       10.551139*       1.4930\n",
      "FIRE:    4 10:53:11       10.506923*       1.5109\n",
      "FIRE:    5 10:53:11       10.450671*       1.5324\n",
      "FIRE:    6 10:53:11       10.381757*       1.5571\n",
      "FIRE:    7 10:53:11       10.299461*       1.5848\n",
      "FIRE:    8 10:53:11       10.191807*       1.6187\n",
      "FIRE:    9 10:53:11       10.051151*       1.6600\n",
      "FIRE:   10 10:53:12        9.867245*       1.7121\n",
      "FIRE:   11 10:53:12        9.626421*       1.7726\n",
      "FIRE:   12 10:53:12        9.312049*       1.8198\n",
      "FIRE:   13 10:53:12        8.906837*       1.8394\n",
      "FIRE:   14 10:53:12        8.401823*       1.7725\n",
      "FIRE:   15 10:53:12        7.928009*       1.5489\n",
      "FIRE:   16 10:53:12        7.545839*       1.1165\n",
      "FIRE:   17 10:53:12        7.329218*       0.3670\n",
      "FIRE:   18 10:53:12        7.373441*       0.7520\n",
      "FIRE:   19 10:53:12        7.367891*       0.7162\n",
      "FIRE:   20 10:53:12        7.357826*       0.6471\n",
      "FIRE:   21 10:53:12        7.345090*       0.5498\n",
      "FIRE:   22 10:53:12        7.331932*       0.4309\n",
      "FIRE:   23 10:53:13        7.320561*       0.2978\n",
      "FIRE:   24 10:53:13        7.312745*       0.1592\n",
      "FIRE:   25 10:53:13        7.309556*       0.0216\n"
     ]
    }
   ],
   "source": [
    "from ase.optimize import FIRE\n",
    "from ase.constraints import FixAtoms\n",
    "# For the purpose of this tutorial a  constraint is set for all of the surface atoms\n",
    "# Constraints used should always be specific to your system and applied following tests\n",
    "freeze = FixAtoms([atom.index for atom in slab_initial if atom.tag > 0])\n",
    "slab_initial.set_constraint(freeze)\n",
    "slab_final.set_constraint(freeze)\n",
    "\n",
    "opt = FIRE(slab_initial, trajectory=\"slab_initial.traj\", restart=\"slab_initial.pckl\")\n",
    "opt.run(fmax=0.05)\n",
    "opt = FIRE(slab_final, trajectory=\"slab_final.traj\", restart=\"slab_final.pckl\")\n",
    "opt.run(fmax=0.05)\n",
    "\n",
    "# You can have a look at the model using the visualizer\n",
    "from ase.visualize import view\n",
    "#view(slab_initial)\n",
    "#view(slab_final)"
   ]
  },
  {
   "cell_type": "markdown",
   "metadata": {},
   "source": [
    "Now that we have the structures prepared, we need to look for an activation energy for transition between slab_initial and slab_final.\n",
    "\n",
    "There are multiple ways one can approach this problem, but all will in the end help to establish highest energy geometry linking these two structures - the transition state.\n",
    "\n",
    "    a.) NEB\n",
    "    b.) MLNEB\n",
    "    c.) AutoNEB\n",
    "    d.) Surface diffusion energy barriers using ASE constraints - fixed plane\n",
    "    e.) Surface diffusion energy barriers using ASE constraints - fixed bond lengths\n",
    "    f.) Dimer Method (and Improved Dimer Method)\n",
    "    g.) Growing String method\n",
    "    h.) More are being developed"
   ]
  },
  {
   "cell_type": "markdown",
   "metadata": {},
   "source": [
    "a.) Nudged Elastic Band - NEB\n",
    "\n",
    "\"The Nudged Elastic Band method is a technique for finding transition paths (and corresponding energy barriers) between given initial and final states. The method involves constructing a “chain” of “replicas” or “images” of the system and relaxing them in a certain way.\"\n",
    "\n",
    "Detailed description of the NEB class as implemented in ASE, including useful publications:\n",
    "https://wiki.fysik.dtu.dk/ase/ase/neb.html?highlight=neb#module-ase.neb\n",
    "ASE take on this tutorial, exploring the functionality a bit more:\n",
    "https://wiki.fysik.dtu.dk/ase/tutorials/neb/diffusion.html\n",
    "\n",
    "The \"classic\" NEB is a bit of a brute force approach. It takes a lot of trial and error to get below convergence criteria and it is costly. All of the \"images\" mentioned above are optimised per iteration, so if one is interested in getting to know the Minimum Energy Path (MEP) better, often number of DFT calculations goes into thousands.\n",
    "\n",
    "One of the problems associated with NEBs in general is that they rely heavily on the user-provided input structures. If they are not optimal due to complexity of the process, the MEP is elongated and the overall experiment becomes more expensive. There are ways of improving initial/final guesses, but not as straightforward with regular NEB.\n",
    "\n",
    "To overcome the complexity of the energy landscape we need to focus solely on the highest energy transition state and ignore the lesser maxima, which can arise due to rotations etc. For this we use a *climbing image* calculation (see NEB wiki for more info)."
   ]
  },
  {
   "cell_type": "code",
   "execution_count": 4,
   "metadata": {},
   "outputs": [
    {
     "name": "stdout",
     "output_type": "stream",
     "text": [
      "      Step     Time          Energy         fmax\n",
      "*Force-consistent energies used in optimization.\n",
      "FIRE:    0 10:53:13        7.454145*       0.8369\n",
      "FIRE:    1 10:53:13        7.447736*       0.7491\n",
      "FIRE:    2 10:53:13        7.437564*       0.5899\n",
      "FIRE:    3 10:53:14        7.427612*       0.3875\n",
      "FIRE:    4 10:53:14        7.421407*       0.1820\n",
      "FIRE:    5 10:53:14        7.420673*       0.1199\n",
      "FIRE:    6 10:53:14        7.420675*       0.1189\n",
      "FIRE:    7 10:53:14        7.420679*       0.1170\n",
      "FIRE:    8 10:53:14        7.420687*       0.1142\n",
      "FIRE:    9 10:53:14        7.420702*       0.1107\n",
      "FIRE:   10 10:53:15        7.420728*       0.1066\n",
      "FIRE:   11 10:53:15        7.420767*       0.1021\n",
      "FIRE:   12 10:53:15        7.420823*       0.0974\n",
      "FIRE:   13 10:53:15        7.420908*       0.0923\n",
      "FIRE:   14 10:53:15        7.421035*       0.0871\n",
      "FIRE:   15 10:53:16        7.421216*       0.0823\n",
      "FIRE:   16 10:53:16        7.421464*       0.0783\n",
      "FIRE:   17 10:53:16        7.421786*       0.0752\n",
      "FIRE:   18 10:53:16        7.422183*       0.0724\n",
      "FIRE:   19 10:53:16        7.422642*       0.0682\n",
      "FIRE:   20 10:53:17        7.423146*       0.0613\n",
      "FIRE:   21 10:53:17        7.423683*       0.0516\n",
      "FIRE:   22 10:53:17        7.424242*       0.0427\n"
     ]
    },
    {
     "data": {
      "text/plain": [
       "True"
      ]
     },
     "execution_count": 4,
     "metadata": {},
     "output_type": "execute_result"
    }
   ],
   "source": [
    "# a) NEB code in ASE\n",
    "from ase.neb import NEB\n",
    "from ase.calculators.emt import EMT\n",
    "import copy\n",
    "\n",
    "# Make a band consisting of 7 images (including initial and final)\n",
    "# Very important - each image has to have a separate calculator!\n",
    "# If one wants to use a single calculator, e.g. sockets with FHI-aims,\n",
    "# the SingleCalculatorNEB class needs to be used in instead\n",
    "images = [slab_initial]\n",
    "images += [slab_initial.copy() for i in range(5)]\n",
    "images += [slab_final]\n",
    "neb = NEB(images, climb=True) # use climbing image calculation\n",
    "# Interpolate linearly the potisions of the three middle images:\n",
    "neb.interpolate()\n",
    "# Set calculators:\n",
    "for image in images[1:6]:\n",
    "    image.set_calculator(EMT())\n",
    "\n",
    "# Optimize:\n",
    "optimizer = FIRE(neb,\n",
    "                trajectory='A2B.traj' # when running a real calculation make sure to save the output!\n",
    "                 )\n",
    "optimizer.run(fmax=0.05)\n",
    "\n",
    "# Use ASE GUI to view the MEP\n",
    "#view(images)\n"
   ]
  },
  {
   "cell_type": "code",
   "execution_count": 9,
   "metadata": {},
   "outputs": [
    {
     "data": {
      "image/png": "[encoded data removed]",
      "text/plain": [
       "<Figure size 432x288 with 1 Axes>"
      ]
     },
     "metadata": {},
     "output_type": "display_data"
    }
   ],
   "source": [
    "# Now let's analyse the output, if dealing with one calculation it is sufficient to use\n",
    "# ASE GUI and choose Tools --> NEB to see the plot\n",
    "\n",
    "import matplotlib.pyplot as plt\n",
    "from ase.neb import NEBTools\n",
    "\n",
    "nebtools = NEBTools(images)\n",
    "\n",
    "# Get the calculated barrier and the energy change of the reaction.\n",
    "Ef, dE = nebtools.get_barrier()\n",
    "\n",
    "# Get the actual maximum force at this point in the simulation.\n",
    "max_force = nebtools.get_fmax()\n",
    "\n",
    "# Create a figure like that coming from ASE-GUI.\n",
    "fig = nebtools.plot_band() # TODO: Why is this not generated when only runs once in Jupyter Notebook?\n",
    "fig.savefig('barrier-neb.png')"
   ]
  },
  {
   "cell_type": "markdown",
   "metadata": {},
   "source": [
    "b) Machine Learning NEB by CatLearn (MLNEB)\n",
    "\n",
    "NEB images are generated and added dynamically based on the Gaussian Training Process. Each image is a product of a single-point calculation rather than optimisation. Overall efficiency in terms of resources should be increased by an order of magnitude.\n",
    "\n",
    "If you use CatLearn's ML-NEB module, please cite:\n",
    "\n",
    "   J. A. Garrido Torres, M. H. Hansen, P. C. Jennings,\n",
    "   J. R. Boes and T. Bligaard. Phys. Rev. Lett. 122, 156001.\n",
    "   https://journals.aps.org/prl/abstract/10.1103/PhysRevLett.122.156001"
   ]
  },
  {
   "cell_type": "code",
   "execution_count": 6,
   "metadata": {},
   "outputs": [
    {
     "name": "stderr",
     "output_type": "stream",
     "text": [
      "/home/igor/.local/lib/python3.6/site-packages/ase/parallel.py:342: FutureWarning: ase.parallel.rank has been deprecated.  Please use ase.parallel.world.rank instead.\n",
      "  FutureWarning)\n",
      "/home/igor/.local/lib/python3.6/site-packages/ase/io/jsonio.py:122: VisibleDeprecationWarning: Creating an ndarray from ragged nested sequences (which is a list-or-tuple of lists-or-tuples-or ndarrays with different lengths or shapes) is deprecated. If you meant to do this, you must specify 'dtype=object' when creating the ndarray\n",
      "  a = np.array(obj)\n",
      "/home/igor/.local/lib/python3.6/site-packages/ase/atoms.py:921: VisibleDeprecationWarning: Use get_global_number_of_atoms() instead\n",
      "  np.VisibleDeprecationWarning)\n"
     ]
    },
    {
     "name": "stdout",
     "output_type": "stream",
     "text": [
      " \n",
      "       ____      _   _                          \n",
      "      / ___|__ _| |_| |    ___  __ _ _ __ _ __  \n",
      "     | |   / _` | __| |   / _ \\/ _` | '__| '_ \\ \n",
      "     | |__| (_| | |_| |__|  __/ (_| | |  | | | |\n",
      "      \\____\\__,_|\\__|_____\\___|\\__,_|_|  |_| |_| ML-NEB 0.6.2\n",
      "      \n",
      "      \n",
      "+--------+------+---------------------+---------------------+---------------------+--------------+--------------+----------+\n",
      "| Method | Step |        Time         | Pred. barrier (-->) | Pred. barrier (<--) | Max. uncert. | Avg. uncert. |   fmax   |\n",
      "+--------+------+---------------------+---------------------+------------------+--------------+--------------+----------+\n",
      "| ML-NEB |     0| 2020-07-01 10:53:19 |             0.000000|             0.000000|      0.000000|      0.000000|  0.021585|\n",
      "+--------+------+---------------------+---------------------+------------------+--------------+--------------+----------+\n",
      "+--------+------+---------------------+---------------------+---------------------+--------------+--------------+----------+\n",
      "| Method | Step |        Time         | Pred. barrier (-->) | Pred. barrier (<--) | Max. uncert. | Avg. uncert. |   fmax   |\n",
      "+--------+------+---------------------+---------------------+------------------+--------------+--------------+----------+\n",
      "| ML-NEB |     0| 2020-07-01 10:53:19 |             0.000000|             0.000000|      0.000000|      0.000000|  0.021585|\n",
      "| ML-NEB |     1| 2020-07-01 10:53:19 |             0.000000|             0.000000|      0.000000|      0.000000|  0.733858|\n",
      "+--------+------+---------------------+---------------------+------------------+--------------+--------------+----------+\n",
      "\n",
      "\n",
      "Training a Gaussian process...\n",
      "Number of training points: 3\n",
      "Gaussian process trained.\n"
     ]
    },
    {
     "name": "stderr",
     "output_type": "stream",
     "text": [
      "/home/igor/.local/lib/python3.6/site-packages/scipy/optimize/_numdiff.py:519: RuntimeWarning: invalid value encountered in true_divide\n",
      "  J_transposed[i] = df / dx\n"
     ]
    },
    {
     "name": "stdout",
     "output_type": "stream",
     "text": [
      "\n",
      "\n",
      "+--------+------+---------------------+---------------------+---------------------+--------------+--------------+----------+\n",
      "| Method | Step |        Time         | Pred. barrier (-->) | Pred. barrier (<--) | Max. uncert. | Avg. uncert. |   fmax   |\n",
      "+--------+------+---------------------+---------------------+------------------+--------------+--------------+----------+\n",
      "| ML-NEB |     0| 2020-07-01 10:53:25 |             0.000000|             0.000000|      0.000000|      0.000000|  0.021585|\n",
      "| ML-NEB |     1| 2020-07-01 10:53:25 |             0.000000|             0.000000|      0.000000|      0.000000|  0.733858|\n",
      "| ML-NEB |     2| 2020-07-01 10:53:25 |             0.143220|             0.003680|      0.095560|      0.053720|  1.799284|\n",
      "+--------+------+---------------------+---------------------+------------------+--------------+--------------+----------+\n",
      "\n",
      "\n",
      "Training a Gaussian process...\n",
      "Number of training points: 4\n",
      "Gaussian process trained.\n",
      "\n",
      "\n",
      "+--------+------+---------------------+---------------------+---------------------+--------------+--------------+----------+\n",
      "| Method | Step |        Time         | Pred. barrier (-->) | Pred. barrier (<--) | Max. uncert. | Avg. uncert. |   fmax   |\n",
      "+--------+------+---------------------+---------------------+------------------+--------------+--------------+----------+\n",
      "| ML-NEB |     0| 2020-07-01 10:53:28 |             0.000000|             0.000000|      0.000000|      0.000000|  0.021585|\n",
      "| ML-NEB |     1| 2020-07-01 10:53:28 |             0.000000|             0.000000|      0.000000|      0.000000|  0.733858|\n",
      "| ML-NEB |     2| 2020-07-01 10:53:28 |             0.143220|             0.003680|      0.095560|      0.053720|  1.799284|\n",
      "| ML-NEB |     3| 2020-07-01 10:53:28 |             0.254510|             0.114970|      0.013570|      0.012870|  0.244323|\n",
      "+--------+------+---------------------+---------------------+------------------+--------------+--------------+----------+\n",
      "\n",
      "\n",
      "Training a Gaussian process...\n",
      "Number of training points: 5\n",
      "Gaussian process trained.\n",
      "\n",
      "\n",
      "+--------+------+---------------------+---------------------+---------------------+--------------+--------------+----------+\n",
      "| Method | Step |        Time         | Pred. barrier (-->) | Pred. barrier (<--) | Max. uncert. | Avg. uncert. |   fmax   |\n",
      "+--------+------+---------------------+---------------------+------------------+--------------+--------------+----------+\n",
      "| ML-NEB |     0| 2020-07-01 10:53:34 |             0.000000|             0.000000|      0.000000|      0.000000|  0.021585|\n",
      "| ML-NEB |     1| 2020-07-01 10:53:34 |             0.000000|             0.000000|      0.000000|      0.000000|  0.733858|\n",
      "| ML-NEB |     2| 2020-07-01 10:53:34 |             0.143220|             0.003680|      0.095560|      0.053720|  1.799284|\n",
      "| ML-NEB |     3| 2020-07-01 10:53:34 |             0.254510|             0.114970|      0.013570|      0.012870|  0.244323|\n",
      "| ML-NEB |     4| 2020-07-01 10:53:34 |             0.250690|             0.111160|      0.032220|      0.019690|  0.528910|\n",
      "+--------+------+---------------------+---------------------+------------------+--------------+--------------+----------+\n",
      "\n",
      "\n",
      "Training a Gaussian process...\n",
      "Number of training points: 6\n",
      "Gaussian process trained.\n",
      "\n",
      "\n",
      "+--------+------+---------------------+---------------------+---------------------+--------------+--------------+----------+\n",
      "| Method | Step |        Time         | Pred. barrier (-->) | Pred. barrier (<--) | Max. uncert. | Avg. uncert. |   fmax   |\n",
      "+--------+------+---------------------+---------------------+------------------+--------------+--------------+----------+\n",
      "| ML-NEB |     0| 2020-07-01 10:53:38 |             0.000000|             0.000000|      0.000000|      0.000000|  0.021585|\n",
      "| ML-NEB |     1| 2020-07-01 10:53:38 |             0.000000|             0.000000|      0.000000|      0.000000|  0.733858|\n",
      "| ML-NEB |     2| 2020-07-01 10:53:38 |             0.143220|             0.003680|      0.095560|      0.053720|  1.799284|\n",
      "| ML-NEB |     3| 2020-07-01 10:53:38 |             0.254510|             0.114970|      0.013570|      0.012870|  0.244323|\n",
      "| ML-NEB |     4| 2020-07-01 10:53:38 |             0.250690|             0.111160|      0.032220|      0.019690|  0.528910|\n",
      "| ML-NEB |     5| 2020-07-01 10:53:38 |             0.256300|             0.116770|      0.014710|      0.012150|  0.050394|\n",
      "+--------+------+---------------------+---------------------+------------------+--------------+--------------+----------+\n",
      "\n",
      "\n",
      "Training a Gaussian process...\n",
      "Number of training points: 7\n",
      "Gaussian process trained.\n",
      "\n",
      "\n",
      "+--------+------+---------------------+---------------------+---------------------+--------------+--------------+----------+\n",
      "| Method | Step |        Time         | Pred. barrier (-->) | Pred. barrier (<--) | Max. uncert. | Avg. uncert. |   fmax   |\n",
      "+--------+------+---------------------+---------------------+------------------+--------------+--------------+----------+\n",
      "| ML-NEB |     0| 2020-07-01 10:53:41 |             0.000000|             0.000000|      0.000000|      0.000000|  0.021585|\n",
      "| ML-NEB |     1| 2020-07-01 10:53:41 |             0.000000|             0.000000|      0.000000|      0.000000|  0.733858|\n",
      "| ML-NEB |     2| 2020-07-01 10:53:41 |             0.143220|             0.003680|      0.095560|      0.053720|  1.799284|\n",
      "| ML-NEB |     3| 2020-07-01 10:53:41 |             0.254510|             0.114970|      0.013570|      0.012870|  0.244323|\n",
      "| ML-NEB |     4| 2020-07-01 10:53:41 |             0.250690|             0.111160|      0.032220|      0.019690|  0.528910|\n",
      "| ML-NEB |     5| 2020-07-01 10:53:41 |             0.256300|             0.116770|      0.014710|      0.012150|  0.050394|\n",
      "| ML-NEB |     6| 2020-07-01 10:53:41 |             0.258080|             0.118550|      0.014580|      0.011910|  0.028876|\n",
      "+--------+------+---------------------+---------------------+------------------+--------------+--------------+----------+\n",
      "Congratulations! Stationary point is found! Check the file 'evaluated_structures.traj' using ASE.\n",
      "\n",
      "\n",
      "Training a Gaussian process...\n",
      "Number of training points: 8\n",
      "Gaussian process trained.\n",
      "Congratulations! Your ML NEB is converged. If you want to plot the ML NEB predicted path you should check the files 'results_neb.csv' and 'results_neb_interpolation.csv'.\n",
      "The optimized predicted path can be found in:  ML-NEB.traj\n",
      "Number of steps performed in total: 6\n",
      "----------------------------------------------------------------------------------------------------------------------\n",
      "You are using ML-NEB and CatLearn. Please cite: \n",
      "[1] J. A. Garrido Torres, M. H. Hansen, P. C. Jennings, J. R. Boes and T. Bligaard. Phys. Rev. Lett. 122, 156001. https://journals.aps.org/prl/abstract/10.1103/PhysRevLett.122.156001 \n",
      "[2] M. H. Hansen, J. A. Garrido Torres, P. C. Jennings, Z. Wang, J. R. Boes, O. G. Mamun and T. Bligaard. An Atomistic Machine Learning Packagefor Surface Science and Catalysis. https://arxiv.org/abs/1904.00904 \n",
      "----------------------------------------------------------------------------------------------------------------------\n"
     ]
    }
   ],
   "source": [
    "from catlearn.optimize.mlneb import MLNEB\n",
    "from ase.calculators.emt import EMT\n",
    "\n",
    "# Desired nuber of images including start and end point\n",
    "# Can be fraction e.g. 0.25, then the number of imaages is then determined automatically based on MEP length\n",
    "n = 7 \n",
    "\n",
    "calculator = EMT()\n",
    "interpolation = \"idpp\" #or your own supplied path\n",
    "\n",
    "# Setup the Catlearn object for MLNEB\n",
    "neb_catlearn = MLNEB(start=slab_initial,\n",
    "                     end=slab_final,\n",
    "                     ase_calc=calculator,\n",
    "                     n_images=n,\n",
    "                     interpolation=interpolation, restart=False) #When True looks for evaluated_structures.traj\n",
    "\n",
    "# Run the NEB optimisation. Adjust fmax to desired convergence criteria, usually 0.01 ev/A\n",
    "neb_catlearn.run(fmax=0.05, trajectory='ML-NEB.traj', full_output=False, steps=75)\n",
    "\n",
    "# Warning, this calculation takes some time on a local system, but it is little compared to DFT calculations\n",
    "# on periodic surface models. Might not be ideal for trivial systems, e.g. small molecules in the gas phase.\n",
    "\n"
   ]
  },
  {
   "cell_type": "code",
   "execution_count": 7,
   "metadata": {},
   "outputs": [],
   "source": [
    "# Check the output of MLNEB\n",
    "from ase.io import read\n",
    "#view(read(\"ML-NEB.traj@:\"))"
   ]
  },
  {
   "cell_type": "code",
   "execution_count": 8,
   "metadata": {},
   "outputs": [
    {
     "name": "stderr",
     "output_type": "stream",
     "text": [
      "/home/igor/.local/lib/python3.6/site-packages/ase/io/jsonio.py:122: VisibleDeprecationWarning: Creating an ndarray from ragged nested sequences (which is a list-or-tuple of lists-or-tuples-or ndarrays with different lengths or shapes) is deprecated. If you meant to do this, you must specify 'dtype=object' when creating the ndarray\n",
      "  a = np.array(obj)\n"
     ]
    },
    {
     "data": {
      "image/png": "[encoded data removed]",
      "text/plain": [
       "<Figure size 432x288 with 1 Axes>"
      ]
     },
     "metadata": {},
     "output_type": "display_data"
    }
   ],
   "source": [
    "# Now let's analyse the output, if dealing with one calculation it is sufficient to use\n",
    "# ASE GUI and choose Tools --> NEB to see the plot\n",
    "\n",
    "import matplotlib.pyplot as plt\n",
    "from ase.neb import NEBTools\n",
    "from ase.io import read\n",
    "\n",
    "nebtools = NEBTools(read(\"ML-NEB.traj@:\"))\n",
    "\n",
    "# Get the calculated barrier and the energy change of the reaction.\n",
    "Ef, dE = nebtools.get_barrier()\n",
    "\n",
    "# Get the actual maximum force at this point in the simulation.\n",
    "max_force = nebtools.get_fmax()\n",
    "\n",
    "# Create a figure like that coming from ASE-GUI.\n",
    "fig = nebtools.plot_band()\n",
    "fig.savefig('barrier-mlneb.png')\n"
   ]
  },
  {
   "cell_type": "markdown",
   "metadata": {},
   "source": [
    "# TODO: neb(✓), mlneb(✓), linear scan, (also Growing string?, Dimer method?)\n",
    "# TODO: discuss indices in input structures (CO2 as example, avoid rotation during neb\n",
    "# TODO: discuss symmetry operations (where possible) to reduce path size\n",
    "# TODO: discuss difficult energy landscape, optimisations of local minima, dissociation with fixed bond lengths"
   ]
  },
  {
   "cell_type": "code",
   "execution_count": null,
   "metadata": {},
   "outputs": [],
   "source": []
  }
 ],
 "metadata": {
  "kernelspec": {
   "display_name": "Python 3",
   "language": "python",
   "name": "python3"
  },
  "language_info": {
   "codemirror_mode": {
    "name": "ipython",
    "version": 3
   },
   "file_extension": ".py",
   "mimetype": "text/x-python",
   "name": "python",
   "nbconvert_exporter": "python",
   "pygments_lexer": "ipython3",
   "version": "3.6.9"
  }
 },
 "nbformat": 4,
 "nbformat_minor": 4
}
