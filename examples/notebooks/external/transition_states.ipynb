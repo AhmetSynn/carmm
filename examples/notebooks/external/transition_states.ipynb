{
 "cells": [
  {
   "cell_type": "markdown",
   "metadata": {},
   "source": [
    "# Calculating trainsition states\n",
    "\n",
    "Identifying the most compute effective approach to calculating transition states can be difficult. Let us guide you through the options in this short notebook. **Pre-requisite: Familiarity with ASE**\n",
    "\n",
    "Breakdown of this tutorial:\n",
    "I.) Creating a work case\n",
    "II.) Methods with examples\n",
    "III.) Common problems and how to solve them\n",
    "\n",
    "First, let us create a toy model of Au FCC(111) surface and 2 Cu ad atoms. "
   ]
  },
  {
   "cell_type": "code",
   "execution_count": null,
   "metadata": {},
   "outputs": [],
   "source": [
    "from examples.data.model_gen import get_example_slab\n",
    "slab_initial = get_example_slab(adsorbate=True, type=\"2Cu\")"
   ]
  },
  {
   "cell_type": "markdown",
   "metadata": {},
   "source": [
    "In the model above the two Cu atoms are situated on top of hcp adsorption sites. The final geometry will be with copper atoms placed in non-neighbouring fcc and hcp sites. The goal is to calculate the transition state between the two and an activation energy."
   ]
  },
  {
   "cell_type": "code",
   "execution_count": null,
   "metadata": {},
   "outputs": [],
   "source": [
    "slab_final = get_example_slab(adsorbate=True, type=\"2Cu\")\n",
    "hcp_position = [slab_final[1].x, (slab_final[15].y + slab_final[1].y)/2]\n",
    "# place the copper atom in the position specified above\n",
    "slab_final[19].x, slab_final[19].y = hcp_position[0], hcp_position[1]"
   ]
  },
  {
   "cell_type": "markdown",
   "metadata": {},
   "source": [
    "Now before we proceed we need to make sure the structures are optimised. Forces convergence criterion is usually below 0.01 eV/Angstrom on each individual atom, but for the purposes of this tutorial a looser 0.05 value is used."
   ]
  },
  {
   "cell_type": "code",
   "execution_count": null,
   "metadata": {
    "scrolled": true
   },
   "outputs": [],
   "source": [
    "from ase.optimize import FIRE\n",
    "from ase.constraints import FixAtoms\n",
    "# For the purpose of this tutorial a  constraint is set for all of the surface atoms\n",
    "# Constraints used should always be specific to your system and applied following tests\n",
    "freeze = FixAtoms([atom.index for atom in slab_initial if atom.tag > 0])\n",
    "slab_initial.set_constraint(freeze)\n",
    "slab_final.set_constraint(freeze)\n",
    "\n",
    "opt = FIRE(slab_initial, trajectory=\"slab_initial.traj\", restart=\"slab_initial.pckl\")\n",
    "opt.run(fmax=0.05)\n",
    "opt = FIRE(slab_final, trajectory=\"slab_final.traj\", restart=\"slab_final.pckl\")\n",
    "opt.run(fmax=0.05)\n",
    "\n",
    "# You can have a look at the model using the visualizer\n",
    "from ase.visualize import view\n",
    "#view(slab_initial)\n",
    "#view(slab_final)"
   ]
  },
  {
   "cell_type": "markdown",
   "metadata": {},
   "source": [
    "Now that we have the structures prepared, we need to look for an activation energy for transition between slab_initial and slab_final.\n",
    "\n",
    "There are multiple ways one can approach this problem, but all will in the end help to establish highest energy geometry linking these two structures - the transition state.\n",
    "\n",
    "    a.) NEB\n",
    "    b.) MLNEB\n",
    "    c.) AutoNEB\n",
    "    d.) Surface diffusion energy barriers using ASE constraints - fixed plane\n",
    "    e.) Surface diffusion energy barriers using ASE constraints - fixed bond lengths\n",
    "    f.) Dimer Method (and Improved Dimer Method)\n",
    "    g.) Growing String method\n",
    "    h.) More are being developed"
   ]
  },
  {
   "cell_type": "markdown",
   "metadata": {},
   "source": [
    "a.) Nudged Elastic Band - NEB\n",
    "\n",
    "\"The Nudged Elastic Band method is a technique for finding transition paths (and corresponding energy barriers) between given initial and final states. The method involves constructing a “chain” of “replicas” or “images” of the system and relaxing them in a certain way.\"\n",
    "\n",
    "Detailed description of the NEB class as implemented in ASE, including useful publications:\n",
    "https://wiki.fysik.dtu.dk/ase/ase/neb.html?highlight=neb#module-ase.neb\n",
    "ASE take on this tutorial, exploring the functionality a bit more:\n",
    "https://wiki.fysik.dtu.dk/ase/tutorials/neb/diffusion.html\n",
    "\n",
    "The \"classic\" NEB is a bit of a brute force approach. It takes a lot of trial and error to get below convergence criteria and it is costly. All of the \"images\" mentioned above are optimised per iteration, so if one is interested in getting to know the Minimum Energy Path (MEP) better, often number of DFT calculations goes into thousands.\n",
    "\n",
    "One of the problems associated with NEBs in general is that they rely heavily on the user-provided input structures. If they are not optimal due to complexity of the process, the MEP is elongated and the overall experiment becomes more expensive. There are ways of improving initial/final guesses, but not as straightforward with regular NEB.\n",
    "\n",
    "To overcome the complexity of the energy landscape we need to focus solely on the highest energy transition state and ignore the lesser maxima, which can arise due to rotations etc. For this we use a *climbing image* calculation (see NEB wiki for more info)."
   ]
  },
  {
   "cell_type": "code",
   "execution_count": null,
   "metadata": {},
   "outputs": [],
   "source": [
    "# a) NEB code in ASE\n",
    "from ase.neb import NEB\n",
    "from ase.calculators.emt import EMT\n",
    "import copy\n",
    "\n",
    "# Make a band consisting of 7 images (including initial and final)\n",
    "# Very important - each image has to have a separate calculator!\n",
    "# If one wants to use a single calculator, e.g. sockets with FHI-aims,\n",
    "# the SingleCalculatorNEB class needs to be used in instead\n",
    "images = [slab_initial]\n",
    "images += [slab_initial.copy() for i in range(5)]\n",
    "images += [slab_final]\n",
    "neb = NEB(images, climb=True) # use climbing image calculation\n",
    "# Interpolate linearly the potisions of the three middle images:\n",
    "neb.interpolate()\n",
    "# Set calculators:\n",
    "for image in images[1:6]:\n",
    "    image.set_calculator(EMT())\n",
    "\n",
    "# Optimize:\n",
    "optimizer = FIRE(neb,\n",
    "                trajectory='A2B.traj' # when running a real calculation make sure to save the output!\n",
    "                 )\n",
    "optimizer.run(fmax=0.05)\n",
    "\n",
    "# Use ASE GUI to view the MEP\n",
    "#view(images)\n"
   ]
  },
  {
   "cell_type": "code",
   "execution_count": null,
   "metadata": {},
   "outputs": [],
   "source": [
    "# Now let's analyse the output, if dealing with one calculation it is sufficient to use\n",
    "# ASE GUI and choose Tools --> NEB to see the plot\n",
    "\n",
    "import matplotlib.pyplot as plt\n",
    "from ase.neb import NEBTools\n",
    "\n",
    "nebtools = NEBTools(images)\n",
    "\n",
    "# Get the calculated barrier and the energy change of the reaction.\n",
    "Ef, dE = nebtools.get_barrier()\n",
    "\n",
    "# Get the actual maximum force at this point in the simulation.\n",
    "max_force = nebtools.get_fmax()\n",
    "\n",
    "# Create a figure like that coming from ASE-GUI.\n",
    "fig = nebtools.plot_band() # TODO: Why is this not generated when only runs once in Jupyter Notebook?\n",
    "fig.savefig('barrier-neb.png')"
   ]
  },
  {
   "cell_type": "markdown",
   "metadata": {},
   "source": [
    "b) Machine Learning NEB by CatLearn (MLNEB)\n",
    "\n",
    "NEB images are generated and added dynamically based on the Gaussian Training Process. Each image is a product of a single-point calculation rather than optimisation. Overall efficiency in terms of resources should be increased by an order of magnitude.\n",
    "\n",
    "If you use CatLearn's ML-NEB module, please cite:\n",
    "\n",
    "   J. A. Garrido Torres, M. H. Hansen, P. C. Jennings,\n",
    "   J. R. Boes and T. Bligaard. Phys. Rev. Lett. 122, 156001.\n",
    "   https://journals.aps.org/prl/abstract/10.1103/PhysRevLett.122.156001"
   ]
  },
  {
   "cell_type": "code",
   "execution_count": null,
   "metadata": {},
   "outputs": [],
   "source": [
    "from catlearn.optimize.mlneb import MLNEB\n",
    "from ase.calculators.emt import EMT\n",
    "\n",
    "# Desired nuber of images including start and end point\n",
    "# Can be fraction e.g. 0.25, then the number of imaages is then determined automatically based on MEP length\n",
    "n = 7 \n",
    "\n",
    "calculator = EMT()\n",
    "interpolation = \"idpp\" #or your own supplied path\n",
    "\n",
    "# Setup the Catlearn object for MLNEB\n",
    "neb_catlearn = MLNEB(start=slab_initial,\n",
    "                     end=slab_final,\n",
    "                     ase_calc=calculator,\n",
    "                     n_images=n,\n",
    "                     interpolation=interpolation, restart=False) #When True looks for evaluated_structures.traj\n",
    "\n",
    "# Run the NEB optimisation. Adjust fmax to desired convergence criteria, usually 0.01 ev/A\n",
    "neb_catlearn.run(fmax=0.05, trajectory='ML-NEB.traj', full_output=False, steps=75)\n",
    "\n",
    "# Warning, this calculation takes some time on a local system, but it is little compared to DFT calculations\n",
    "# on periodic surface models. Might not be ideal for trivial systems, e.g. small molecules in the gas phase.\n",
    "\n"
   ]
  },
  {
   "cell_type": "code",
   "execution_count": null,
   "metadata": {},
   "outputs": [],
   "source": [
    "# Check the output of MLNEB\n",
    "from ase.io import read\n",
    "#view(read(\"ML-NEB.traj@:\"))"
   ]
  },
  {
   "cell_type": "code",
   "execution_count": null,
   "metadata": {},
   "outputs": [],
   "source": [
    "# Now let's analyse the output, if dealing with one calculation it is sufficient to use\n",
    "# ASE GUI and choose Tools --> NEB to see the plot\n",
    "\n",
    "import matplotlib.pyplot as plt\n",
    "from ase.neb import NEBTools\n",
    "from ase.io import read\n",
    "\n",
    "nebtools = NEBTools(read(\"ML-NEB.traj@:\"))\n",
    "\n",
    "# Get the calculated barrier and the energy change of the reaction.\n",
    "Ef, dE = nebtools.get_barrier()\n",
    "\n",
    "# Get the actual maximum force at this point in the simulation.\n",
    "max_force = nebtools.get_fmax()\n",
    "\n",
    "# Create a figure like that coming from ASE-GUI.\n",
    "fig = nebtools.plot_band()\n",
    "fig.savefig('barrier-mlneb.png')\n"
   ]
  },
  {
   "cell_type": "markdown",
   "metadata": {},
   "source": [
    "c) AutoNEB\n",
    "https://wiki.fysik.dtu.dk/ase/dev/_modules/ase/autoneb.html\n",
    "Similarly to MLNEB it adds images dynamically, but performs optimisations on each image sequentially.\n",
    "Files need a strict naming scheme."
   ]
  },
  {
   "cell_type": "code",
   "execution_count": null,
   "metadata": {},
   "outputs": [],
   "source": [
    "from ase.autoneb import AutoNEB\n",
    "# AutoNEB requires a function that is assigning calculators to the generated images\n",
    "def attach_calculators(images):\n",
    "    for i in range(len(images)):\n",
    "        images[i].set_calculator(EMT())\n",
    "        \n",
    "# Follow the naming scheme on input structures specified in 'prefix'\n",
    "from ase.io.trajectory import Trajectory\n",
    "initial_traj = Trajectory(\"neb000.traj\", 'w')\n",
    "initial_traj.write(slab_initial)\n",
    "final_traj = Trajectory(\"neb001.traj\", 'w')\n",
    "final_traj.write(slab_final)\n",
    "\n",
    "### Autoneb settings\n",
    "# number of images including initial and final\n",
    "n = 7\n",
    "\n",
    "neb = AutoNEB      (attach_calculators,\n",
    "                    climb=True,\n",
    "                    prefix = \"neb\",\n",
    "                    n_max = n, # total no. images\n",
    "                    n_simul= 1, # images in parallel - difficult to increase with FHI-aims, requires separate folders for each calc\n",
    "                    optimizer = \"FIRE\", #or BFGS\n",
    "                    fmax = 0.05, # make sure to change these\n",
    "                    k = 0.05,\n",
    "                    parallel = False\n",
    "                    )\n",
    "\n",
    "neb.run()"
   ]
  },
  {
   "cell_type": "code",
   "execution_count": null,
   "metadata": {},
   "outputs": [],
   "source": [
    "# from command line images can be joined together using:\n",
    "# ase gui neb???.traj -n -1\n",
    "from ase.io import read\n",
    "images_autoneb = []\n",
    "for i in range(n):\n",
    "    atoms = read(\"neb00\" + str(i) +\".traj@-1\")\n",
    "    images_autoneb += [atoms]\n",
    "\n",
    "from ase.visualize import view\n",
    "view(images_autoneb)\n",
    "\n"
   ]
  },
  {
   "cell_type": "markdown",
   "metadata": {},
   "source": [
    "# TODO: neb(✓), mlneb(✓), AutoNEB(✓) linear scan, (also Growing string?, Dimer method?)\n",
    "# TODO: discuss indices in input structures (CO2 as example, avoid rotation during neb\n",
    "# TODO: discuss symmetry operations (where possible) to reduce path size\n",
    "# TODO: discuss difficult energy landscape, optimisations of local minima, dissociation with fixed bond lengths"
   ]
  },
  {
   "cell_type": "code",
   "execution_count": null,
   "metadata": {},
   "outputs": [],
   "source": []
  }
 ],
 "metadata": {
  "kernelspec": {
   "display_name": "Python 3",
   "language": "python",
   "name": "python3"
  },
  "language_info": {
   "codemirror_mode": {
    "name": "ipython",
    "version": 3
   },
   "file_extension": ".py",
   "mimetype": "text/x-python",
   "name": "python",
   "nbconvert_exporter": "python",
   "pygments_lexer": "ipython3",
   "version": "3.6.9"
  }
 },
 "nbformat": 4,
 "nbformat_minor": 4
}
