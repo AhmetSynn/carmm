{
 "cells": [
  {
   "cell_type": "markdown",
   "metadata": {},
   "source": [
    "# Calculating trainsition states\n",
    "\n",
    "Identifying the most compute effective approach to calculating transition states can be difficult. Let us guide you through the options in this short notebook. **Pre-requisite: Familiarity with ASE**\n",
    "\n",
    "Breakdown of this tutorial:\n",
    "I.) Creating a work case\n",
    "II.) Methods with examples\n",
    "III.) Common problems and how to solve them\n",
    "\n",
    "First, let us create a toy model of Au FCC(111) surface and 2 Cu ad atoms. "
   ]
  },
  {
   "cell_type": "code",
   "execution_count": 1,
   "metadata": {},
   "outputs": [],
   "source": [
    "from examples.data.model_gen import get_example_slab\n",
    "slab_initial = get_example_slab(adsorbate=True, type=\"2Cu\")"
   ]
  },
  {
   "cell_type": "markdown",
   "metadata": {},
   "source": [
    "In the model above the two Cu atoms are situated on top of hcp adsorption sites. The final geometry will be with copper atoms placed in non-neighbouring fcc and hcp sites. The goal is to calculate the transition state between the two and an activation energy."
   ]
  },
  {
   "cell_type": "code",
   "execution_count": 2,
   "metadata": {},
   "outputs": [],
   "source": [
    "slab_final = get_example_slab(adsorbate=True, type=\"2Cu\")\n",
    "hcp_position = [slab_final[1].x, (slab_final[15].y + slab_final[1].y)/2]\n",
    "# place the copper atom in the position specified above\n",
    "slab_final[19].x, slab_final[19].y = hcp_position[0], hcp_position[1]"
   ]
  },
  {
   "cell_type": "markdown",
   "metadata": {},
   "source": [
    "Now before we proceed we need to make sure the structures are optimised. Forces convergence criterion is usually below 0.01 eV/Angstrom on each individual atom, but for the purposes of this tutorial a looser 0.05 value is used."
   ]
  },
  {
   "cell_type": "code",
   "execution_count": 3,
   "metadata": {
    "scrolled": true
   },
   "outputs": [
    {
     "name": "stdout",
     "output_type": "stream",
     "text": [
      "      Step     Time          Energy         fmax\n",
      "*Force-consistent energies used in optimization.\n",
      "FIRE:    0 11:34:29        9.933133*       1.8648\n",
      "FIRE:    1 11:34:29        9.847394*       1.9158\n",
      "FIRE:    2 11:34:30        9.683770*       2.0005\n",
      "FIRE:    3 11:34:30        9.431440*       2.0844\n",
      "FIRE:    4 11:34:30        9.089365*       2.0343\n",
      "FIRE:    5 11:34:30        8.719983*       1.4372\n",
      "FIRE:    6 11:34:30        8.586563*       1.2343\n",
      "FIRE:    7 11:34:30        8.579178*       1.1625\n",
      "FIRE:    8 11:34:30        8.566063*       1.0368\n",
      "FIRE:    9 11:34:30        8.549800*       0.8913\n",
      "FIRE:   10 11:34:30        8.532813*       0.7699\n",
      "FIRE:   11 11:34:30        8.516431*       0.7116\n",
      "FIRE:   12 11:34:30        8.500489*       0.7217\n",
      "FIRE:   13 11:34:30        8.483660*       0.7696\n",
      "FIRE:   14 11:34:30        8.461961*       0.8272\n",
      "FIRE:   15 11:34:30        8.432170*       0.8724\n",
      "FIRE:   16 11:34:31        8.390752*       0.8935\n",
      "FIRE:   17 11:34:31        8.334426*       0.8912\n",
      "FIRE:   18 11:34:31        8.260490*       0.8836\n",
      "FIRE:   19 11:34:31        8.166136*       0.9046\n",
      "FIRE:   20 11:34:31        8.045932*       0.9715\n",
      "FIRE:   21 11:34:31        7.889550*       1.0413\n",
      "FIRE:   22 11:34:31        7.687328*       1.0363\n",
      "FIRE:   23 11:34:31        7.450958*       0.8869\n",
      "FIRE:   24 11:34:31        7.266809*       0.5846\n",
      "FIRE:   25 11:34:31        7.214752*       0.6414\n",
      "FIRE:   26 11:34:31        7.210494*       0.6022\n",
      "FIRE:   27 11:34:31        7.202998*       0.5290\n",
      "FIRE:   28 11:34:31        7.193970*       0.4307\n",
      "FIRE:   29 11:34:31        7.185298*       0.3194\n",
      "FIRE:   30 11:34:32        7.178541*       0.2113\n",
      "FIRE:   31 11:34:32        7.174575*       0.1353\n",
      "FIRE:   32 11:34:32        7.173336*       0.1329\n",
      "FIRE:   33 11:34:32        7.173294*       0.1320\n",
      "FIRE:   34 11:34:32        7.173211*       0.1302\n",
      "FIRE:   35 11:34:32        7.173090*       0.1275\n",
      "FIRE:   36 11:34:32        7.172934*       0.1241\n",
      "FIRE:   37 11:34:32        7.172748*       0.1198\n",
      "FIRE:   38 11:34:32        7.172536*       0.1149\n",
      "FIRE:   39 11:34:32        7.172305*       0.1094\n",
      "FIRE:   40 11:34:32        7.172035*       0.1026\n",
      "FIRE:   41 11:34:32        7.171727*       0.0947\n",
      "FIRE:   42 11:34:32        7.171391*       0.0857\n",
      "FIRE:   43 11:34:32        7.171040*       0.0758\n",
      "FIRE:   44 11:34:32        7.170693*       0.0659\n",
      "FIRE:   45 11:34:32        7.170375*       0.0571\n",
      "FIRE:   46 11:34:32        7.170109*       0.0509\n",
      "FIRE:   47 11:34:32        7.169911*       0.0477\n",
      "      Step     Time          Energy         fmax\n",
      "*Force-consistent energies used in optimization.\n",
      "FIRE:    0 11:34:33       10.616127*       1.4652\n",
      "FIRE:    1 11:34:33       10.605408*       1.4699\n",
      "FIRE:    2 11:34:33       10.583835*       1.4792\n",
      "FIRE:    3 11:34:33       10.551139*       1.4930\n",
      "FIRE:    4 11:34:33       10.506923*       1.5109\n",
      "FIRE:    5 11:34:33       10.450671*       1.5324\n",
      "FIRE:    6 11:34:33       10.381757*       1.5571\n",
      "FIRE:    7 11:34:33       10.299461*       1.5848\n",
      "FIRE:    8 11:34:33       10.191807*       1.6187\n",
      "FIRE:    9 11:34:33       10.051151*       1.6600\n",
      "FIRE:   10 11:34:33        9.867245*       1.7121\n",
      "FIRE:   11 11:34:33        9.626421*       1.7726\n",
      "FIRE:   12 11:34:33        9.312049*       1.8198\n",
      "FIRE:   13 11:34:33        8.906837*       1.8394\n",
      "FIRE:   14 11:34:33        8.401823*       1.7725\n",
      "FIRE:   15 11:34:33        7.928009*       1.5489\n",
      "FIRE:   16 11:34:34        7.545839*       1.1165\n",
      "FIRE:   17 11:34:34        7.329218*       0.3670\n",
      "FIRE:   18 11:34:34        7.373441*       0.7520\n",
      "FIRE:   19 11:34:34        7.367891*       0.7162\n",
      "FIRE:   20 11:34:34        7.357826*       0.6471\n",
      "FIRE:   21 11:34:34        7.345090*       0.5498\n",
      "FIRE:   22 11:34:34        7.331932*       0.4309\n",
      "FIRE:   23 11:34:34        7.320561*       0.2978\n",
      "FIRE:   24 11:34:34        7.312745*       0.1592\n",
      "FIRE:   25 11:34:34        7.309556*       0.0216\n"
     ]
    }
   ],
   "source": [
    "from ase.optimize import FIRE\n",
    "from ase.constraints import FixAtoms\n",
    "# For the purpose of this tutorial a  constraint is set for all of the surface atoms\n",
    "# Constraints used should always be specific to your system and applied following tests\n",
    "freeze = FixAtoms([atom.index for atom in slab_initial if atom.tag > 0])\n",
    "slab_initial.set_constraint(freeze)\n",
    "slab_final.set_constraint(freeze)\n",
    "\n",
    "opt = FIRE(slab_initial, trajectory=\"slab_initial.traj\", restart=\"slab_initial.pckl\")\n",
    "opt.run(fmax=0.05)\n",
    "opt = FIRE(slab_final, trajectory=\"slab_final.traj\", restart=\"slab_final.pckl\")\n",
    "opt.run(fmax=0.05)\n",
    "\n",
    "# You can have a look at the model using the visualizer\n",
    "from ase.visualize import view\n",
    "#view(slab_initial)\n",
    "#view(slab_final)"
   ]
  },
  {
   "cell_type": "markdown",
   "metadata": {},
   "source": [
    "Now that we have the structures prepared, we need to look for an activation energy for transition between slab_initial and slab_final.\n",
    "\n",
    "There are multiple ways one can approach this problem, but all will in the end help to establish highest energy geometry linking these two structures - the transition state.\n",
    "\n",
    "    a.) NEB\n",
    "    b.) MLNEB\n",
    "    c.) AutoNEB\n",
    "    d.) Surface diffusion energy barriers using ASE constraints - fixed plane\n",
    "    e.) Surface diffusion energy barriers using ASE constraints - fixed bond lengths\n",
    "    f.) Dimer Method (and Improved Dimer Method)\n",
    "    g.) Growing String method\n",
    "    h.) More are being developed"
   ]
  },
  {
   "cell_type": "markdown",
   "metadata": {},
   "source": [
    "a.) Nudged Elastic Band - NEB\n",
    "\n",
    "\"The Nudged Elastic Band method is a technique for finding transition paths (and corresponding energy barriers) between given initial and final states. The method involves constructing a “chain” of “replicas” or “images” of the system and relaxing them in a certain way.\"\n",
    "\n",
    "Detailed description of the NEB class as implemented in ASE, including useful publications:\n",
    "https://wiki.fysik.dtu.dk/ase/ase/neb.html?highlight=neb#module-ase.neb\n",
    "ASE take on this tutorial, exploring the functionality a bit more:\n",
    "https://wiki.fysik.dtu.dk/ase/tutorials/neb/diffusion.html\n",
    "\n",
    "The \"classic\" NEB is a bit of a brute force approach. It takes a lot of trial and error to get below convergence criteria and it is costly. All of the \"images\" mentioned above are optimised per iteration, so if one is interested in getting to know the Minimum Energy Path (MEP) better, often number of DFT calculations goes into thousands.\n",
    "\n",
    "One of the problems associated with NEBs in general is that they rely heavily on the user-provided input structures. If they are not optimal due to complexity of the process, the MEP is elongated and the overall experiment becomes more expensive. There are ways of improving initial/final guesses, but not as straightforward with regular NEB.\n",
    "\n",
    "To overcome the complexity of the energy landscape we need to focus solely on the highest energy transition state and ignore the lesser maxima, which can arise due to rotations etc. For this we use a *climbing image* calculation (see NEB wiki for more info)."
   ]
  },
  {
   "cell_type": "code",
   "execution_count": 4,
   "metadata": {},
   "outputs": [
    {
     "name": "stdout",
     "output_type": "stream",
     "text": [
      "      Step     Time          Energy         fmax\n",
      "*Force-consistent energies used in optimization.\n",
      "FIRE:    0 11:34:34        7.454921*       0.8475\n",
      "FIRE:    1 11:34:34        7.448352*       0.7583\n",
      "FIRE:    2 11:34:35        7.437934*       0.5966\n",
      "FIRE:    3 11:34:35        7.427756*       0.3909\n",
      "FIRE:    4 11:34:35        7.421435*       0.1814\n",
      "FIRE:    5 11:34:35        7.420730*       0.1193\n",
      "FIRE:    6 11:34:35        7.420732*       0.1183\n",
      "FIRE:    7 11:34:35        7.420736*       0.1164\n",
      "FIRE:    8 11:34:36        7.420744*       0.1135\n",
      "FIRE:    9 11:34:36        7.420759*       0.1099\n",
      "FIRE:   10 11:34:36        7.420784*       0.1057\n",
      "FIRE:   11 11:34:36        7.420824*       0.1010\n",
      "FIRE:   12 11:34:36        7.420880*       0.0962\n",
      "FIRE:   13 11:34:36        7.420967*       0.0911\n",
      "FIRE:   14 11:34:37        7.421095*       0.0858\n",
      "FIRE:   15 11:34:37        7.421278*       0.0811\n",
      "FIRE:   16 11:34:37        7.421529*       0.0773\n",
      "FIRE:   17 11:34:37        7.421853*       0.0745\n",
      "FIRE:   18 11:34:37        7.422249*       0.0719\n",
      "FIRE:   19 11:34:37        7.422702*       0.0680\n",
      "FIRE:   20 11:34:37        7.423196*       0.0611\n",
      "FIRE:   21 11:34:38        7.423716*       0.0513\n",
      "FIRE:   22 11:34:38        7.424257*       0.0420\n"
     ]
    },
    {
     "data": {
      "text/plain": [
       "True"
      ]
     },
     "execution_count": 4,
     "metadata": {},
     "output_type": "execute_result"
    }
   ],
   "source": [
    "# a) NEB code in ASE\n",
    "from ase.neb import NEB\n",
    "from ase.calculators.emt import EMT\n",
    "import copy\n",
    "\n",
    "# Make a band consisting of 7 images (including initial and final)\n",
    "# Very important - each image has to have a separate calculator!\n",
    "# If one wants to use a single calculator, e.g. sockets with FHI-aims,\n",
    "# the SingleCalculatorNEB class needs to be used in instead\n",
    "images = [slab_initial]\n",
    "images += [slab_initial.copy() for i in range(5)]\n",
    "images += [slab_final]\n",
    "neb = NEB(images, climb=True) # use climbing image calculation\n",
    "# Interpolate linearly the potisions of the three middle images:\n",
    "neb.interpolate()\n",
    "# Set calculators:\n",
    "for image in images[1:6]:\n",
    "    image.set_calculator(EMT())\n",
    "\n",
    "# Optimize:\n",
    "optimizer = FIRE(neb,\n",
    "                trajectory='A2B.traj' # when running a real calculation make sure to save the output!\n",
    "                 )\n",
    "optimizer.run(fmax=0.05)\n",
    "\n",
    "# Use ASE GUI to view the MEP\n",
    "#view(images)\n"
   ]
  },
  {
   "cell_type": "code",
   "execution_count": 15,
   "metadata": {},
   "outputs": [
    {
     "data": {
      "image/png": "[encoded data removed]",
      "text/plain": [
       "<Figure size 432x288 with 1 Axes>"
      ]
     },
     "metadata": {},
     "output_type": "display_data"
    }
   ],
   "source": [
    "# Now let's analyse the output, if dealing with one calculation it is sufficient to use\n",
    "# ASE GUI and choose Tools --> NEB to see the plot\n",
    "\n",
    "import matplotlib.pyplot as plt\n",
    "from ase.neb import NEBTools\n",
    "\n",
    "nebtools = NEBTools(images)\n",
    "\n",
    "# Get the calculated barrier and the energy change of the reaction.\n",
    "Ef, dE = nebtools.get_barrier()\n",
    "\n",
    "# Get the actual maximum force at this point in the simulation.\n",
    "max_force = nebtools.get_fmax()\n",
    "\n",
    "# Create a figure like that coming from ASE-GUI.\n",
    "fig = nebtools.plot_band() # TODO: Why is this not generated when only runs once in Jupyter Notebook?\n",
    "fig.savefig('barrier-neb.png')"
   ]
  },
  {
   "cell_type": "markdown",
   "metadata": {},
   "source": [
    "b) Machine Learning NEB by CatLearn (MLNEB)\n",
    "\n",
    "NEB images are generated and added dynamically based on the Gaussian Training Process. Each image is a product of a single-point calculation rather than optimisation. Overall efficiency in terms of resources should be increased by an order of magnitude.\n",
    "\n",
    "If you use CatLearn's ML-NEB module, please cite:\n",
    "\n",
    "   J. A. Garrido Torres, M. H. Hansen, P. C. Jennings,\n",
    "   J. R. Boes and T. Bligaard. Phys. Rev. Lett. 122, 156001.\n",
    "   https://journals.aps.org/prl/abstract/10.1103/PhysRevLett.122.156001"
   ]
  },
  {
   "cell_type": "code",
   "execution_count": 6,
   "metadata": {},
   "outputs": [
    {
     "name": "stderr",
     "output_type": "stream",
     "text": [
      "/home/igor/.local/lib/python3.6/site-packages/ase/parallel.py:342: FutureWarning: ase.parallel.rank has been deprecated.  Please use ase.parallel.world.rank instead.\n",
      "  FutureWarning)\n",
      "/home/igor/.local/lib/python3.6/site-packages/ase/io/jsonio.py:122: VisibleDeprecationWarning: Creating an ndarray from ragged nested sequences (which is a list-or-tuple of lists-or-tuples-or ndarrays with different lengths or shapes) is deprecated. If you meant to do this, you must specify 'dtype=object' when creating the ndarray\n",
      "  a = np.array(obj)\n",
      "/home/igor/.local/lib/python3.6/site-packages/ase/atoms.py:921: VisibleDeprecationWarning: Use get_global_number_of_atoms() instead\n",
      "  np.VisibleDeprecationWarning)\n"
     ]
    },
    {
     "name": "stdout",
     "output_type": "stream",
     "text": [
      " \n",
      "       ____      _   _                          \n",
      "      / ___|__ _| |_| |    ___  __ _ _ __ _ __  \n",
      "     | |   / _` | __| |   / _ \\/ _` | '__| '_ \\ \n",
      "     | |__| (_| | |_| |__|  __/ (_| | |  | | | |\n",
      "      \\____\\__,_|\\__|_____\\___|\\__,_|_|  |_| |_| ML-NEB 0.6.2\n",
      "      \n",
      "      \n",
      "+--------+------+---------------------+---------------------+---------------------+--------------+--------------+----------+\n",
      "| Method | Step |        Time         | Pred. barrier (-->) | Pred. barrier (<--) | Max. uncert. | Avg. uncert. |   fmax   |\n",
      "+--------+------+---------------------+---------------------+------------------+--------------+--------------+----------+\n",
      "| ML-NEB |     0| 2020-07-01 11:34:39 |             0.000000|             0.000000|      0.000000|      0.000000|  0.021585|\n",
      "+--------+------+---------------------+---------------------+------------------+--------------+--------------+----------+\n",
      "+--------+------+---------------------+---------------------+---------------------+--------------+--------------+----------+\n",
      "| Method | Step |        Time         | Pred. barrier (-->) | Pred. barrier (<--) | Max. uncert. | Avg. uncert. |   fmax   |\n",
      "+--------+------+---------------------+---------------------+------------------+--------------+--------------+----------+\n",
      "| ML-NEB |     0| 2020-07-01 11:34:39 |             0.000000|             0.000000|      0.000000|      0.000000|  0.021585|\n",
      "| ML-NEB |     1| 2020-07-01 11:34:39 |             0.000000|             0.000000|      0.000000|      0.000000|  0.740681|\n",
      "+--------+------+---------------------+---------------------+------------------+--------------+--------------+----------+\n",
      "\n",
      "\n",
      "Training a Gaussian process...\n",
      "Number of training points: 3\n",
      "Gaussian process trained.\n"
     ]
    },
    {
     "name": "stderr",
     "output_type": "stream",
     "text": [
      "/home/igor/.local/lib/python3.6/site-packages/scipy/optimize/_numdiff.py:519: RuntimeWarning: invalid value encountered in true_divide\n",
      "  J_transposed[i] = df / dx\n"
     ]
    },
    {
     "name": "stdout",
     "output_type": "stream",
     "text": [
      "\n",
      "\n",
      "+--------+------+---------------------+---------------------+---------------------+--------------+--------------+----------+\n",
      "| Method | Step |        Time         | Pred. barrier (-->) | Pred. barrier (<--) | Max. uncert. | Avg. uncert. |   fmax   |\n",
      "+--------+------+---------------------+---------------------+------------------+--------------+--------------+----------+\n",
      "| ML-NEB |     0| 2020-07-01 11:34:43 |             0.000000|             0.000000|      0.000000|      0.000000|  0.021585|\n",
      "| ML-NEB |     1| 2020-07-01 11:34:43 |             0.000000|             0.000000|      0.000000|      0.000000|  0.740681|\n",
      "| ML-NEB |     2| 2020-07-01 11:34:43 |             0.143300|             0.003660|      0.094160|      0.053650|  1.803091|\n",
      "+--------+------+---------------------+---------------------+------------------+--------------+--------------+----------+\n",
      "\n",
      "\n",
      "Training a Gaussian process...\n",
      "Number of training points: 4\n",
      "Gaussian process trained.\n",
      "\n",
      "\n",
      "+--------+------+---------------------+---------------------+---------------------+--------------+--------------+----------+\n",
      "| Method | Step |        Time         | Pred. barrier (-->) | Pred. barrier (<--) | Max. uncert. | Avg. uncert. |   fmax   |\n",
      "+--------+------+---------------------+---------------------+------------------+--------------+--------------+----------+\n",
      "| ML-NEB |     0| 2020-07-01 11:34:45 |             0.000000|             0.000000|      0.000000|      0.000000|  0.021585|\n",
      "| ML-NEB |     1| 2020-07-01 11:34:45 |             0.000000|             0.000000|      0.000000|      0.000000|  0.740681|\n",
      "| ML-NEB |     2| 2020-07-01 11:34:45 |             0.143300|             0.003660|      0.094160|      0.053650|  1.803091|\n",
      "| ML-NEB |     3| 2020-07-01 11:34:45 |             0.255880|             0.116240|      0.013500|      0.012780|  0.206382|\n",
      "+--------+------+---------------------+---------------------+------------------+--------------+--------------+----------+\n",
      "\n",
      "\n",
      "Training a Gaussian process...\n",
      "Number of training points: 5\n",
      "Gaussian process trained.\n",
      "\n",
      "\n",
      "+--------+------+---------------------+---------------------+---------------------+--------------+--------------+----------+\n",
      "| Method | Step |        Time         | Pred. barrier (-->) | Pred. barrier (<--) | Max. uncert. | Avg. uncert. |   fmax   |\n",
      "+--------+------+---------------------+---------------------+------------------+--------------+--------------+----------+\n",
      "| ML-NEB |     0| 2020-07-01 11:34:49 |             0.000000|             0.000000|      0.000000|      0.000000|  0.021585|\n",
      "| ML-NEB |     1| 2020-07-01 11:34:49 |             0.000000|             0.000000|      0.000000|      0.000000|  0.740681|\n",
      "| ML-NEB |     2| 2020-07-01 11:34:49 |             0.143300|             0.003660|      0.094160|      0.053650|  1.803091|\n",
      "| ML-NEB |     3| 2020-07-01 11:34:49 |             0.255880|             0.116240|      0.013500|      0.012780|  0.206382|\n",
      "| ML-NEB |     4| 2020-07-01 11:34:49 |             0.252280|             0.112640|      0.026500|      0.017550|  0.505276|\n",
      "+--------+------+---------------------+---------------------+------------------+--------------+--------------+----------+\n",
      "\n",
      "\n",
      "Training a Gaussian process...\n",
      "Number of training points: 6\n",
      "Gaussian process trained.\n",
      "\n",
      "\n",
      "+--------+------+---------------------+---------------------+---------------------+--------------+--------------+----------+\n",
      "| Method | Step |        Time         | Pred. barrier (-->) | Pred. barrier (<--) | Max. uncert. | Avg. uncert. |   fmax   |\n",
      "+--------+------+---------------------+---------------------+------------------+--------------+--------------+----------+\n",
      "| ML-NEB |     0| 2020-07-01 11:34:55 |             0.000000|             0.000000|      0.000000|      0.000000|  0.021585|\n",
      "| ML-NEB |     1| 2020-07-01 11:34:55 |             0.000000|             0.000000|      0.000000|      0.000000|  0.740681|\n",
      "| ML-NEB |     2| 2020-07-01 11:34:55 |             0.143300|             0.003660|      0.094160|      0.053650|  1.803091|\n",
      "| ML-NEB |     3| 2020-07-01 11:34:55 |             0.255880|             0.116240|      0.013500|      0.012780|  0.206382|\n",
      "| ML-NEB |     4| 2020-07-01 11:34:55 |             0.252280|             0.112640|      0.026500|      0.017550|  0.505276|\n",
      "| ML-NEB |     5| 2020-07-01 11:34:55 |             0.256880|             0.117230|      0.014710|      0.012150|  0.038083|\n",
      "+--------+------+---------------------+---------------------+------------------+--------------+--------------+----------+\n",
      "Congratulations! Stationary point is found! Check the file 'evaluated_structures.traj' using ASE.\n",
      "\n",
      "\n",
      "Training a Gaussian process...\n",
      "Number of training points: 7\n",
      "Gaussian process trained.\n",
      "Congratulations! Your ML NEB is converged. If you want to plot the ML NEB predicted path you should check the files 'results_neb.csv' and 'results_neb_interpolation.csv'.\n",
      "The optimized predicted path can be found in:  ML-NEB.traj\n",
      "Number of steps performed in total: 5\n",
      "----------------------------------------------------------------------------------------------------------------------\n",
      "You are using ML-NEB and CatLearn. Please cite: \n",
      "[1] J. A. Garrido Torres, M. H. Hansen, P. C. Jennings, J. R. Boes and T. Bligaard. Phys. Rev. Lett. 122, 156001. https://journals.aps.org/prl/abstract/10.1103/PhysRevLett.122.156001 \n",
      "[2] M. H. Hansen, J. A. Garrido Torres, P. C. Jennings, Z. Wang, J. R. Boes, O. G. Mamun and T. Bligaard. An Atomistic Machine Learning Packagefor Surface Science and Catalysis. https://arxiv.org/abs/1904.00904 \n",
      "----------------------------------------------------------------------------------------------------------------------\n"
     ]
    }
   ],
   "source": [
    "from catlearn.optimize.mlneb import MLNEB\n",
    "from ase.calculators.emt import EMT\n",
    "\n",
    "# Desired nuber of images including start and end point\n",
    "# Can be fraction e.g. 0.25, then the number of imaages is then determined automatically based on MEP length\n",
    "n = 7 \n",
    "\n",
    "calculator = EMT()\n",
    "interpolation = \"idpp\" #or your own supplied path\n",
    "\n",
    "# Setup the Catlearn object for MLNEB\n",
    "neb_catlearn = MLNEB(start=slab_initial,\n",
    "                     end=slab_final,\n",
    "                     ase_calc=calculator,\n",
    "                     n_images=n,\n",
    "                     interpolation=interpolation, restart=False) #When True looks for evaluated_structures.traj\n",
    "\n",
    "# Run the NEB optimisation. Adjust fmax to desired convergence criteria, usually 0.01 ev/A\n",
    "neb_catlearn.run(fmax=0.05, trajectory='ML-NEB.traj', full_output=False, steps=75)\n",
    "\n",
    "# Warning, this calculation takes some time on a local system, but it is little compared to DFT calculations\n",
    "# on periodic surface models. Might not be ideal for trivial systems, e.g. small molecules in the gas phase.\n",
    "\n"
   ]
  },
  {
   "cell_type": "code",
   "execution_count": 7,
   "metadata": {},
   "outputs": [],
   "source": [
    "# Check the output of MLNEB\n",
    "from ase.io import read\n",
    "#view(read(\"ML-NEB.traj@:\"))"
   ]
  },
  {
   "cell_type": "code",
   "execution_count": 8,
   "metadata": {},
   "outputs": [
    {
     "name": "stderr",
     "output_type": "stream",
     "text": [
      "/home/igor/.local/lib/python3.6/site-packages/ase/io/jsonio.py:122: VisibleDeprecationWarning: Creating an ndarray from ragged nested sequences (which is a list-or-tuple of lists-or-tuples-or ndarrays with different lengths or shapes) is deprecated. If you meant to do this, you must specify 'dtype=object' when creating the ndarray\n",
      "  a = np.array(obj)\n"
     ]
    },
    {
     "data": {
      "image/png": "[encoded data removed]",
      "text/plain": [
       "<Figure size 432x288 with 1 Axes>"
      ]
     },
     "metadata": {},
     "output_type": "display_data"
    }
   ],
   "source": [
    "# Now let's analyse the output, if dealing with one calculation it is sufficient to use\n",
    "# ASE GUI and choose Tools --> NEB to see the plot\n",
    "\n",
    "import matplotlib.pyplot as plt\n",
    "from ase.neb import NEBTools\n",
    "from ase.io import read\n",
    "\n",
    "nebtools = NEBTools(read(\"ML-NEB.traj@:\"))\n",
    "\n",
    "# Get the calculated barrier and the energy change of the reaction.\n",
    "Ef, dE = nebtools.get_barrier()\n",
    "\n",
    "# Get the actual maximum force at this point in the simulation.\n",
    "max_force = nebtools.get_fmax()\n",
    "\n",
    "# Create a figure like that coming from ASE-GUI.\n",
    "fig = nebtools.plot_band()\n",
    "fig.savefig('barrier-mlneb.png')\n"
   ]
  },
  {
   "cell_type": "markdown",
   "metadata": {},
   "source": [
    "c) AutoNEB\n",
    "https://wiki.fysik.dtu.dk/ase/dev/_modules/ase/autoneb.html\n",
    "Similarly to MLNEB it adds images dynamically, but performs optimisations on each image sequentially.\n",
    "Files need a strict naming scheme."
   ]
  },
  {
   "cell_type": "code",
   "execution_count": 13,
   "metadata": {},
   "outputs": [
    {
     "name": "stdout",
     "output_type": "stream",
     "text": [
      "The NEB initially has 2 images  (including the end-points)\n",
      "Now adding images for initial run\n",
      "Max length between images is at  0\n",
      "Start of evaluation of the initial images\n",
      "Now starting iteration 1 on  range(0, 3)\n"
     ]
    },
    {
     "name": "stderr",
     "output_type": "stream",
     "text": [
      "/home/igor/.local/lib/python3.6/site-packages/ase/io/jsonio.py:122: VisibleDeprecationWarning: Creating an ndarray from ragged nested sequences (which is a list-or-tuple of lists-or-tuples-or ndarrays with different lengths or shapes) is deprecated. If you meant to do this, you must specify 'dtype=object' when creating the ndarray\n",
      "  a = np.array(obj)\n"
     ]
    },
    {
     "name": "stdout",
     "output_type": "stream",
     "text": [
      "Finished initialisation phase.\n",
      "****Now adding another image until n_max is reached (3/7)****\n",
      "Adding image between 1 and 2. New image point is selected on the basis of the biggest spring length!\n",
      "Now starting iteration 2 on  range(1, 4)\n",
      "****Now adding another image until n_max is reached (4/7)****\n",
      "Adding image between 0 and 1. New image point is selected on the basis of the biggest spring length!\n",
      "Now starting iteration 3 on  range(0, 3)\n",
      "****Now adding another image until n_max is reached (5/7)****\n",
      "Adding image between 0 and 1. New image point is selected on the basis of the biggest spring length!\n",
      "Now starting iteration 4 on  range(0, 3)\n",
      "****Now adding another image until n_max is reached (6/7)****\n",
      "Adding image between 2 and 3. New image point is selected on the basis of the biggest spring length!\n",
      "Now starting iteration 5 on  range(2, 5)\n",
      "n_max images has been reached\n",
      "****Now doing the CI-NEB calculation****\n",
      "Now starting iteration 6 on  range(3, 6)\n"
     ]
    },
    {
     "data": {
      "text/plain": [
       "[Atoms(symbols='Au18Cu2', pbc=[True, True, False], cell=[[8.817000000000002, 0.0, 0.0], [4.408500000000001, 7.635745985167396, 0.0], [0.0, 0.0, 22.399683451346586]], tags=..., constraint=FixAtoms(indices=[0, 1, 2, 3, 4, 5, 6, 7, 8, 9, 10, 11, 12, 13, 14, 15, 16, 17]), calculator=SinglePointCalculator(...)),\n",
       " Atoms(symbols='Au18Cu2', pbc=[True, True, False], cell=[[8.817000000000002, 0.0, 0.0], [4.408500000000001, 7.635745985167396, 0.0], [0.0, 0.0, 22.399683451346586]], tags=..., constraint=FixAtoms(indices=[0, 1, 2, 3, 4, 5, 6, 7, 8, 9, 10, 11, 12, 13, 14, 15, 16, 17]), calculator=EMT(...)),\n",
       " Atoms(symbols='Au18Cu2', pbc=[True, True, False], cell=[[8.817000000000002, 0.0, 0.0], [4.408500000000001, 7.635745985167396, 0.0], [0.0, 0.0, 22.399683451346586]], tags=..., constraint=FixAtoms(indices=[0, 1, 2, 3, 4, 5, 6, 7, 8, 9, 10, 11, 12, 13, 14, 15, 16, 17]), calculator=EMT(...)),\n",
       " Atoms(symbols='Au18Cu2', pbc=[True, True, False], cell=[[8.817000000000002, 0.0, 0.0], [4.408500000000001, 7.635745985167396, 0.0], [0.0, 0.0, 22.399683451346586]], tags=..., constraint=FixAtoms(indices=[0, 1, 2, 3, 4, 5, 6, 7, 8, 9, 10, 11, 12, 13, 14, 15, 16, 17]), calculator=EMT(...)),\n",
       " Atoms(symbols='Au18Cu2', pbc=[True, True, False], cell=[[8.817000000000002, 0.0, 0.0], [4.408500000000001, 7.635745985167396, 0.0], [0.0, 0.0, 22.399683451346586]], tags=..., constraint=FixAtoms(indices=[0, 1, 2, 3, 4, 5, 6, 7, 8, 9, 10, 11, 12, 13, 14, 15, 16, 17]), calculator=EMT(...)),\n",
       " Atoms(symbols='Au18Cu2', pbc=[True, True, False], cell=[[8.817000000000002, 0.0, 0.0], [4.408500000000001, 7.635745985167396, 0.0], [0.0, 0.0, 22.399683451346586]], tags=..., constraint=FixAtoms(indices=[0, 1, 2, 3, 4, 5, 6, 7, 8, 9, 10, 11, 12, 13, 14, 15, 16, 17]), calculator=EMT(...)),\n",
       " Atoms(symbols='Au18Cu2', pbc=[True, True, False], cell=[[8.817000000000002, 0.0, 0.0], [4.408500000000001, 7.635745985167396, 0.0], [0.0, 0.0, 22.399683451346586]], tags=..., constraint=FixAtoms(indices=[0, 1, 2, 3, 4, 5, 6, 7, 8, 9, 10, 11, 12, 13, 14, 15, 16, 17]), calculator=SinglePointCalculator(...))]"
      ]
     },
     "execution_count": 13,
     "metadata": {},
     "output_type": "execute_result"
    }
   ],
   "source": [
    "from ase.autoneb import AutoNEB\n",
    "# AutoNEB requires a function that is assigning calculators to the generated images\n",
    "def attach_calculators(images):\n",
    "    for i in range(len(images)):\n",
    "        images[i].set_calculator(EMT())\n",
    "        \n",
    "# Follow the naming scheme on input structures specified in 'prefix'\n",
    "from ase.io.trajectory import Trajectory\n",
    "import os\n",
    "if not os.path.exists(\"neb000.traj\"):\n",
    "    initial_traj = Trajectory(\"neb000.traj\", 'w')\n",
    "    initial_traj.write(slab_initial)\n",
    "    final_traj = Trajectory(\"neb001.traj\", 'w')\n",
    "    final_traj.write(slab_final)\n",
    "\n",
    "### Autoneb settings\n",
    "# number of images including initial and final\n",
    "n = 7\n",
    "\n",
    "neb = AutoNEB      (attach_calculators,\n",
    "                    climb=True,\n",
    "                    prefix = \"neb\",\n",
    "                    n_max = n, # total no. images\n",
    "                    n_simul= 1, # images in parallel - difficult to increase with FHI-aims, requires separate folders for each calc\n",
    "                    optimizer = \"FIRE\", #or BFGS\n",
    "                    fmax = 0.05, # make sure to change these\n",
    "                    k = 0.05,\n",
    "                    parallel = False\n",
    "                    )\n",
    "\n",
    "neb.run()"
   ]
  },
  {
   "cell_type": "code",
   "execution_count": 14,
   "metadata": {},
   "outputs": [
    {
     "name": "stderr",
     "output_type": "stream",
     "text": [
      "/home/igor/.local/lib/python3.6/site-packages/ase/io/jsonio.py:122: VisibleDeprecationWarning: Creating an ndarray from ragged nested sequences (which is a list-or-tuple of lists-or-tuples-or ndarrays with different lengths or shapes) is deprecated. If you meant to do this, you must specify 'dtype=object' when creating the ndarray\n",
      "  a = np.array(obj)\n"
     ]
    },
    {
     "data": {
      "image/png": "[encoded data removed]",
      "text/plain": [
       "<Figure size 432x288 with 1 Axes>"
      ]
     },
     "metadata": {},
     "output_type": "display_data"
    }
   ],
   "source": [
    "# from command line images can be joined together using:\n",
    "# ase gui neb???.traj -n -1\n",
    "from ase.io import read\n",
    "images_autoneb = []\n",
    "for i in range(n):\n",
    "    atoms = read(\"neb00\" + str(i) +\".traj@-1\")\n",
    "    images_autoneb += [atoms]\n",
    "\n",
    "from ase.visualize import view\n",
    "view(images_autoneb)\n",
    "\n",
    "# Now let's analyse the output, if dealing with one calculation it is sufficient to use\n",
    "# ASE GUI and choose Tools --> NEB to see the plot\n",
    "\n",
    "import matplotlib.pyplot as plt\n",
    "from ase.neb import NEBTools\n",
    "from ase.io import read\n",
    "\n",
    "nebtools = NEBTools(images_autoneb)\n",
    "\n",
    "# Get the calculated barrier and the energy change of the reaction.\n",
    "Ef, dE = nebtools.get_barrier()\n",
    "\n",
    "# Get the actual maximum force at this point in the simulation.\n",
    "max_force = nebtools.get_fmax()\n",
    "\n",
    "# Create a figure like that coming from ASE-GUI.\n",
    "fig = nebtools.plot_band()\n",
    "fig.savefig('barrier-autoneb.png')\n"
   ]
  },
  {
   "cell_type": "markdown",
   "metadata": {},
   "source": [
    "# TODO: neb(✓), mlneb(✓), AutoNEB(✓) linear scan, (also Growing string?, Dimer method?)\n",
    "# TODO: discuss indices in input structures (CO2 as example, avoid rotation during neb\n",
    "# TODO: discuss symmetry operations (where possible) to reduce path size\n",
    "# TODO: discuss difficult energy landscape, optimisations of local minima, dissociation with fixed bond lengths"
   ]
  },
  {
   "cell_type": "code",
   "execution_count": null,
   "metadata": {},
   "outputs": [],
   "source": []
  }
 ],
 "metadata": {
  "kernelspec": {
   "display_name": "Python 3",
   "language": "python",
   "name": "python3"
  },
  "language_info": {
   "codemirror_mode": {
    "name": "ipython",
    "version": 3
   },
   "file_extension": ".py",
   "mimetype": "text/x-python",
   "name": "python",
   "nbconvert_exporter": "python",
   "pygments_lexer": "ipython3",
   "version": "3.6.9"
  }
 },
 "nbformat": 4,
 "nbformat_minor": 4
}
