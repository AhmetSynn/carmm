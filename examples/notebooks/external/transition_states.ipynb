{
 "cells": [
  {
   "cell_type": "markdown",
   "metadata": {},
   "source": [
    "# Calculating trainsition states\n",
    "\n",
    "Identifying the most compute effective approach to calculating transition states can be difficult. Let us guide you through the options in this short notebook. **Pre-requisite: Familiarity with ASE**\n",
    "\n",
    "First, let us create a toy model of Au FCC(111) surface and 2 Cu ad atoms. "
   ]
  },
  {
   "cell_type": "code",
   "execution_count": 1,
   "metadata": {},
   "outputs": [],
   "source": [
    "from examples.data.model_gen import get_example_slab\n",
    "slab_initial = get_example_slab(adsorbate=True, type=\"2Cu\")"
   ]
  },
  {
   "cell_type": "markdown",
   "metadata": {},
   "source": [
    "In the model above the two Cu atoms are situated on top of hcp adsorption sites. The final geometry will be with copper atoms placed in non-neighbouring fcc and hcp sites. The goal is to calculate the transition state between the two and an activation energy."
   ]
  },
  {
   "cell_type": "code",
   "execution_count": 2,
   "metadata": {},
   "outputs": [],
   "source": [
    "slab_final = get_example_slab(adsorbate=True, type=\"2Cu\")\n",
    "hcp_position = [slab_final[1].x, (slab_final[15].y + slab_final[1].y)/2]\n",
    "# place the copper atom in the position specified above\n",
    "slab_final[19].x, slab_final[19].y = hcp_position[0], hcp_position[1]"
   ]
  },
  {
   "cell_type": "markdown",
   "metadata": {},
   "source": [
    "Now before we proceed we need to make sure the structures are optimised. Forces convergence criterion is usually below 0.01 eV/Angstrom on each individual atom, but for the purposes of this tutorial a looser 0.05 value is used."
   ]
  },
  {
   "cell_type": "code",
   "execution_count": 4,
   "metadata": {
    "scrolled": true
   },
   "outputs": [
    {
     "name": "stdout",
     "output_type": "stream",
     "text": [
      "      Step     Time          Energy         fmax\n",
      "*Force-consistent energies used in optimization.\n",
      "FIRE:    0 09:29:44        7.170100*       0.0429\n",
      "      Step     Time          Energy         fmax\n",
      "*Force-consistent energies used in optimization.\n",
      "FIRE:    0 09:29:44        7.309548*       0.0182\n"
     ]
    }
   ],
   "source": [
    "from ase.optimize import FIRE\n",
    "from ase.constraints import FixAtoms\n",
    "# For the purpose of this tutorial a  constraint is set for all of the surface atoms\n",
    "# Constraints used should always be specific to your system and applied following tests\n",
    "freeze = FixAtoms([atom.index for atom in slab_initial if atom.tag > 0])\n",
    "slab_initial.set_constraint(freeze)\n",
    "slab_final.set_constraint(freeze)\n",
    "\n",
    "opt = FIRE(slab_initial)\n",
    "opt.run(fmax=0.05)\n",
    "opt = FIRE(slab_final)\n",
    "opt.run(fmax=0.05)\n",
    "\n",
    "# You can have a look at the model using the visualizer\n",
    "from ase.visualize import view\n",
    "view(slab_initial)\n",
    "view(slab_final)"
   ]
  },
  {
   "cell_type": "markdown",
   "metadata": {},
   "source": [
    "Now that we have the structures prepared, we need to look for an activation energy for transition between slab_initial and slab_final.\n",
    "\n",
    "There are multiple ways one can approach this problem, but all will in the end help to establish highest energy geometry linking these two structures - the transition state.\n",
    "\n",
    "a.) NEB\n",
    "b.) MLNEB - part of CatLearn\n",
    "c.) AutoNEB\n",
    "d.) Surface diffusion energy barriers using ASE constraints - fixed plane\n",
    "e.) Surface diffusion energy barriers using ASE constraints - fixed bond lengths\n",
    "f.) Dimer Method (and Improved Dimer Method)\n",
    "g.) Growing String method\n",
    "h.) More are being developed"
   ]
  },
  {
   "cell_type": "markdown",
   "metadata": {},
   "source": [
    "a.) Nudged Elastic Band - NEB\n",
    "\n",
    "\"The Nudged Elastic Band method is a technique for finding transition paths (and corresponding energy barriers) between given initial and final states. The method involves constructing a “chain” of “replicas” or “images” of the system and relaxing them in a certain way.\"\n",
    "\n",
    "Detailed description of the NEB class as implemented in ASE, including useful publications:\n",
    "https://wiki.fysik.dtu.dk/ase/ase/neb.html?highlight=neb#module-ase.neb\n",
    "ASE take on this tutorial, exploring the functionality a bit more:\n",
    "https://wiki.fysik.dtu.dk/ase/tutorials/neb/diffusion.html\n",
    "\n",
    "The \"classic\" NEB is a bit of a brute force approach. It takes a lot of trial and error to get below convergence criteria and it is costly. All of the \"images\" mentioned above are optimised per iteration, so if one is interested in getting to know the Minimum Energy Path (MEP) better, often number of DFT calculations goes into thousands.\n",
    "\n",
    "One of the problems associated with NEBs in general is that they rely heavily on the user-provided input structures. If they are not optimal due to complexity of the process, the MEP is elongated and the overall experiment becomes more expensive. There are ways of improving initial/final guesses, but not as straightforward with regular NEB.\n",
    "\n",
    "To overcome the complexity of the energy landscape we need to focus solely on the highest energy transition state and ignore the lesser maxima, which can arise due to rotations etc. For this we use a *climbing image* calculation (see NEB wiki for more info)."
   ]
  },
  {
   "cell_type": "code",
   "execution_count": 5,
   "metadata": {},
   "outputs": [
    {
     "name": "stdout",
     "output_type": "stream",
     "text": [
      "      Step     Time          Energy         fmax\n",
      "*Force-consistent energies used in optimization.\n",
      "FIRE:    0 09:29:58        7.457057*       0.8594\n",
      "FIRE:    1 09:29:58        7.450242*       0.7682\n",
      "FIRE:    2 09:29:58        7.439444*       0.6028\n",
      "FIRE:    3 09:29:59        7.428909*       0.3926\n",
      "FIRE:    4 09:29:59        7.422364*       0.1778\n",
      "FIRE:    5 09:29:59        7.421590*       0.1164\n",
      "FIRE:    6 09:29:59        7.421588*       0.1154\n",
      "FIRE:    7 09:29:59        7.421584*       0.1132\n",
      "FIRE:    8 09:29:59        7.421580*       0.1101\n",
      "FIRE:    9 09:30:00        7.421580*       0.1062\n",
      "FIRE:   10 09:30:00        7.421587*       0.1016\n",
      "FIRE:   11 09:30:00        7.421606*       0.0965\n",
      "FIRE:   12 09:30:00        7.421640*       0.0913\n",
      "FIRE:   13 09:30:00        7.421699*       0.0857\n",
      "FIRE:   14 09:30:00        7.421796*       0.0802\n",
      "FIRE:   15 09:30:00        7.421942*       0.0753\n",
      "FIRE:   16 09:30:01        7.422150*       0.0717\n",
      "FIRE:   17 09:30:01        7.422426*       0.0695\n",
      "FIRE:   18 09:30:01        7.422766*       0.0676\n",
      "FIRE:   19 09:30:01        7.423153*       0.0641\n",
      "FIRE:   20 09:30:01        7.423571*       0.0574\n",
      "FIRE:   21 09:30:01        7.424008*       0.0473\n"
     ]
    }
   ],
   "source": [
    "# a) NEB code in ASE\n",
    "from ase.neb import NEB\n",
    "from ase.calculators.emt import EMT\n",
    "import copy\n",
    "\n",
    "# Make a band consisting of 7 images (including initial and final)\n",
    "# Very important - each image has to have a separate calculator!\n",
    "# If one wants to use a single calculator, e.g. sockets with FHI-aims,\n",
    "# the SingleCalculatorNEB class needs to be used in instead\n",
    "images = [slab_initial]\n",
    "images += [slab_initial.copy() for i in range(5)]\n",
    "images += [slab_final]\n",
    "neb = NEB(images, climb=True) # use climbing image calculation\n",
    "# Interpolate linearly the potisions of the three middle images:\n",
    "neb.interpolate()\n",
    "# Set calculators:\n",
    "for image in images[1:6]:\n",
    "    image.set_calculator(EMT())\n",
    "\n",
    "# Optimize:\n",
    "optimizer = FIRE(neb,\n",
    "                 # trajectory='A2B.traj' # when running a real calculation make sure to save the output!\n",
    "                 )\n",
    "optimizer.run(fmax=0.05)\n",
    "\n",
    "# Use ASE GUI to view the MEP\n",
    "#view(images)\n"
   ]
  },
  {
   "cell_type": "code",
   "execution_count": 7,
   "metadata": {},
   "outputs": [
    {
     "data": {
      "image/png": "[encoded data removed]",
      "text/plain": [
       "<Figure size 432x288 with 1 Axes>"
      ]
     },
     "metadata": {},
     "output_type": "display_data"
    }
   ],
   "source": [
    "# Now let's analyse the output, if dealing with one calculation it is sufficient to use\n",
    "# ASE GUI and choose Tools --> NEB to see the plot\n",
    "\n",
    "import matplotlib.pyplot as plt\n",
    "from ase.neb import NEBTools\n",
    "\n",
    "nebtools = NEBTools(images)\n",
    "\n",
    "# Get the calculated barrier and the energy change of the reaction.\n",
    "Ef, dE = nebtools.get_barrier()\n",
    "\n",
    "# Get the actual maximum force at this point in the simulation.\n",
    "max_force = nebtools.get_fmax()\n",
    "\n",
    "# Create a figure like that coming from ASE-GUI.\n",
    "fig = nebtools.plot_band()\n",
    "#fig.savefig('diffusion-barrier.png')"
   ]
  },
  {
   "cell_type": "code",
   "execution_count": null,
   "metadata": {},
   "outputs": [],
   "source": []
  },
  {
   "cell_type": "code",
   "execution_count": null,
   "metadata": {},
   "outputs": [],
   "source": []
  },
  {
   "cell_type": "code",
   "execution_count": null,
   "metadata": {},
   "outputs": [],
   "source": []
  },
  {
   "cell_type": "code",
   "execution_count": null,
   "metadata": {},
   "outputs": [],
   "source": []
  },
  {
   "cell_type": "markdown",
   "metadata": {},
   "source": [
    "# TODO: neb(✓), mlneb, linear scan, (also Growing string?, Dimer method?)\n",
    "# TODO: discuss indices in input structures (CO2 as example, avoid rotation during neb\n",
    "# TODO: discuss symmetry operations (where possible) to reduce path size\n",
    "# TODO: discuss difficult energy landscape, optimisations of local minima, dissociation with fixed bond lengths"
   ]
  },
  {
   "cell_type": "code",
   "execution_count": null,
   "metadata": {},
   "outputs": [],
   "source": []
  }
 ],
 "metadata": {
  "kernelspec": {
   "display_name": "Python 3",
   "language": "python",
   "name": "python3"
  },
  "language_info": {
   "codemirror_mode": {
    "name": "ipython",
    "version": 3
   },
   "file_extension": ".py",
   "mimetype": "text/x-python",
   "name": "python",
   "nbconvert_exporter": "python",
   "pygments_lexer": "ipython3",
   "version": "3.6.9"
  }
 },
 "nbformat": 4,
 "nbformat_minor": 4
}
